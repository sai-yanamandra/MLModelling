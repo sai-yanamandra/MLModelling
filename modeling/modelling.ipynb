{
 "metadata": {
  "language_info": {
   "codemirror_mode": {
    "name": "ipython",
    "version": 3
   },
   "file_extension": ".py",
   "mimetype": "text/x-python",
   "name": "python",
   "nbconvert_exporter": "python",
   "pygments_lexer": "ipython3",
   "version": "3.8.2-final"
  },
  "orig_nbformat": 2,
  "kernelspec": {
   "name": "python_defaultSpec_1599500650993",
   "display_name": "Python 3.8.2 64-bit"
  }
 },
 "nbformat": 4,
 "nbformat_minor": 2,
 "cells": [
  {
   "cell_type": "code",
   "execution_count": null,
   "metadata": {
    "tags": []
   },
   "outputs": [],
   "source": [
    "import pandas as pd\n",
    "import numpy as np\n",
    "import matplotlib.pyplot as plt\n",
    "%matplotlib inline\n",
    "import seaborn as sns\n",
    "\n",
    "print(np.__version__)\n",
    "print(pd.__version__)\n",
    "import sys\n",
    "print(sys.version)\n",
    "print(sns.__version__)"
   ]
  },
  {
   "cell_type": "code",
   "execution_count": 12,
   "metadata": {},
   "outputs": [
    {
     "output_type": "execute_result",
     "data": {
      "text/plain": "           timestamp data_type data_format  data_version   data_meta_ID data_meta_ASSIGNER problemtype_value                                 reference_data_url reference_data_refsource                                        description  cvssV3_version                           cvssV3_vectorString cvssV3_attackVector cvssV3_attackComplexity cvssV3_privilegesRequired cvssV3_userInteraction cvssV3_scope cvssV3_confidentialityImpact cvssV3_integrityImpact cvssV3_availabilityImpact  cvssV3_baseScore cvssV3_baseSeverity  baseMetricV3_exploitabilityScore  baseMetricV3_impactScore  cvssV2_version         cvssV2_vectorString cvssV2_accessVector cvssV2_accessComplexity cvssV2_authentication cvssV2_confidentialityImpact cvssV2_integrityImpact cvssV2_availabilityImpact  cvssV2_baseScore baseMetricV2_severity  baseMetricV2_exploitabilityScore  baseMetricV2_impactScore baseMetricV2_acInsufInfo  baseMetricV2_obtainAllPrivilege  baseMetricV2_obtainUserPrivilege  baseMetricV2_obtainOtherPrivilege  \\\n0  2020-09-05T07:00Z       CVE       MITRE          4.00  CVE-2020-0001      cve@mitre.org           CWE-269  https://source.android.com/security/bulletin/2...                  CONFIRM  In getProcessRecordLocked of ActivityManagerSe...            3.10  CVSS:3.1/AV:L/AC:L/PR:L/UI:N/S:U/C:H/I:H/A:H               LOCAL                     LOW                       LOW                   NONE    UNCHANGED                         HIGH                   HIGH                      HIGH              7.80                HIGH                              1.80                      5.90            2.00  AV:L/AC:L/Au:N/C:C/I:C/A:C               LOCAL                     LOW                  NONE                     COMPLETE               COMPLETE                  COMPLETE              7.20                  HIGH                              3.90                     10.00                    False                            False                             False                              False   \n1  2020-09-05T07:00Z       CVE       MITRE          4.00  CVE-2020-0002      cve@mitre.org           CWE-416  https://source.android.com/security/bulletin/2...                  CONFIRM  In ih264d_init_decoder of ih264d_api.c, there ...            3.10  CVSS:3.1/AV:N/AC:L/PR:N/UI:R/S:U/C:H/I:H/A:H             NETWORK                     LOW                      NONE               REQUIRED    UNCHANGED                         HIGH                   HIGH                      HIGH              8.80                HIGH                              2.80                      5.90            2.00  AV:N/AC:M/Au:N/C:C/I:C/A:C             NETWORK                  MEDIUM                  NONE                     COMPLETE               COMPLETE                  COMPLETE              9.30                  HIGH                              8.60                     10.00                    False                            False                             False                              False   \n2  2020-09-05T07:00Z       CVE       MITRE          4.00  CVE-2020-0003      cve@mitre.org           CWE-367  https://source.android.com/security/bulletin/2...                  CONFIRM  In onCreate of InstallStart.java, there is a p...            3.10  CVSS:3.1/AV:L/AC:H/PR:L/UI:R/S:U/C:H/I:H/A:H               LOCAL                    HIGH                       LOW               REQUIRED    UNCHANGED                         HIGH                   HIGH                      HIGH              6.70              MEDIUM                              0.80                      5.90            2.00  AV:L/AC:H/Au:N/C:P/I:P/A:P               LOCAL                    HIGH                  NONE                      PARTIAL                PARTIAL                   PARTIAL              3.70                   LOW                              1.90                      6.40                    False                            False                             False                              False   \n3  2020-09-05T07:00Z       CVE       MITRE          4.00  CVE-2020-0004      cve@mitre.org            CWE-20  https://source.android.com/security/bulletin/2...                  CONFIRM  In generateCrop of WallpaperManagerService.jav...            3.10  CVSS:3.1/AV:L/AC:L/PR:L/UI:N/S:U/C:N/I:N/A:H               LOCAL                     LOW                       LOW                   NONE    UNCHANGED                         NONE                   NONE                      HIGH              5.50              MEDIUM                              1.80                      3.60            2.00  AV:L/AC:L/Au:N/C:N/I:N/A:P               LOCAL                     LOW                  NONE                         NONE                   NONE                   PARTIAL              2.10                   LOW                              3.90                      2.90                    False                            False                             False                              False   \n4  2020-09-05T07:00Z       CVE       MITRE          4.00  CVE-2020-0005      cve@mitre.org           CWE-787  https://source.android.com/security/bulletin/2...                     MISC  In btm_read_remote_ext_features_complete of bt...            3.10  CVSS:3.1/AV:L/AC:L/PR:H/UI:N/S:U/C:H/I:H/A:H               LOCAL                     LOW                      HIGH                   NONE    UNCHANGED                         HIGH                   HIGH                      HIGH              6.70              MEDIUM                              0.80                      5.90            2.00  AV:L/AC:L/Au:N/C:C/I:C/A:C               LOCAL                     LOW                  NONE                     COMPLETE               COMPLETE                  COMPLETE              7.20                  HIGH                              3.90                     10.00                    False                            False                             False                              False   \n\n  baseMetricV2_userInteractionRequired      publishedDate   lastModifiedDate  \n0                                False  2020-01-08T19:15Z  2020-01-14T21:52Z  \n1                                 True  2020-01-08T19:15Z  2020-01-29T21:15Z  \n2                                 True  2020-01-08T19:15Z  2020-01-29T21:15Z  \n3                                False  2020-01-08T19:15Z  2020-01-29T21:15Z  \n4                                False  2020-02-13T15:15Z  2020-02-18T13:15Z  ",
      "text/html": "<div>\n<style scoped>\n    .dataframe tbody tr th:only-of-type {\n        vertical-align: middle;\n    }\n\n    .dataframe tbody tr th {\n        vertical-align: top;\n    }\n\n    .dataframe thead th {\n        text-align: right;\n    }\n</style>\n<table border=\"1\" class=\"dataframe\">\n  <thead>\n    <tr style=\"text-align: right;\">\n      <th></th>\n      <th>timestamp</th>\n      <th>data_type</th>\n      <th>data_format</th>\n      <th>data_version</th>\n      <th>data_meta_ID</th>\n      <th>data_meta_ASSIGNER</th>\n      <th>problemtype_value</th>\n      <th>reference_data_url</th>\n      <th>reference_data_refsource</th>\n      <th>description</th>\n      <th>cvssV3_version</th>\n      <th>cvssV3_vectorString</th>\n      <th>cvssV3_attackVector</th>\n      <th>cvssV3_attackComplexity</th>\n      <th>cvssV3_privilegesRequired</th>\n      <th>cvssV3_userInteraction</th>\n      <th>cvssV3_scope</th>\n      <th>cvssV3_confidentialityImpact</th>\n      <th>cvssV3_integrityImpact</th>\n      <th>cvssV3_availabilityImpact</th>\n      <th>cvssV3_baseScore</th>\n      <th>cvssV3_baseSeverity</th>\n      <th>baseMetricV3_exploitabilityScore</th>\n      <th>baseMetricV3_impactScore</th>\n      <th>cvssV2_version</th>\n      <th>cvssV2_vectorString</th>\n      <th>cvssV2_accessVector</th>\n      <th>cvssV2_accessComplexity</th>\n      <th>cvssV2_authentication</th>\n      <th>cvssV2_confidentialityImpact</th>\n      <th>cvssV2_integrityImpact</th>\n      <th>cvssV2_availabilityImpact</th>\n      <th>cvssV2_baseScore</th>\n      <th>baseMetricV2_severity</th>\n      <th>baseMetricV2_exploitabilityScore</th>\n      <th>baseMetricV2_impactScore</th>\n      <th>baseMetricV2_acInsufInfo</th>\n      <th>baseMetricV2_obtainAllPrivilege</th>\n      <th>baseMetricV2_obtainUserPrivilege</th>\n      <th>baseMetricV2_obtainOtherPrivilege</th>\n      <th>baseMetricV2_userInteractionRequired</th>\n      <th>publishedDate</th>\n      <th>lastModifiedDate</th>\n    </tr>\n  </thead>\n  <tbody>\n    <tr>\n      <th>0</th>\n      <td>2020-09-05T07:00Z</td>\n      <td>CVE</td>\n      <td>MITRE</td>\n      <td>4.00</td>\n      <td>CVE-2020-0001</td>\n      <td>cve@mitre.org</td>\n      <td>CWE-269</td>\n      <td>https://source.android.com/security/bulletin/2...</td>\n      <td>CONFIRM</td>\n      <td>In getProcessRecordLocked of ActivityManagerSe...</td>\n      <td>3.10</td>\n      <td>CVSS:3.1/AV:L/AC:L/PR:L/UI:N/S:U/C:H/I:H/A:H</td>\n      <td>LOCAL</td>\n      <td>LOW</td>\n      <td>LOW</td>\n      <td>NONE</td>\n      <td>UNCHANGED</td>\n      <td>HIGH</td>\n      <td>HIGH</td>\n      <td>HIGH</td>\n      <td>7.80</td>\n      <td>HIGH</td>\n      <td>1.80</td>\n      <td>5.90</td>\n      <td>2.00</td>\n      <td>AV:L/AC:L/Au:N/C:C/I:C/A:C</td>\n      <td>LOCAL</td>\n      <td>LOW</td>\n      <td>NONE</td>\n      <td>COMPLETE</td>\n      <td>COMPLETE</td>\n      <td>COMPLETE</td>\n      <td>7.20</td>\n      <td>HIGH</td>\n      <td>3.90</td>\n      <td>10.00</td>\n      <td>False</td>\n      <td>False</td>\n      <td>False</td>\n      <td>False</td>\n      <td>False</td>\n      <td>2020-01-08T19:15Z</td>\n      <td>2020-01-14T21:52Z</td>\n    </tr>\n    <tr>\n      <th>1</th>\n      <td>2020-09-05T07:00Z</td>\n      <td>CVE</td>\n      <td>MITRE</td>\n      <td>4.00</td>\n      <td>CVE-2020-0002</td>\n      <td>cve@mitre.org</td>\n      <td>CWE-416</td>\n      <td>https://source.android.com/security/bulletin/2...</td>\n      <td>CONFIRM</td>\n      <td>In ih264d_init_decoder of ih264d_api.c, there ...</td>\n      <td>3.10</td>\n      <td>CVSS:3.1/AV:N/AC:L/PR:N/UI:R/S:U/C:H/I:H/A:H</td>\n      <td>NETWORK</td>\n      <td>LOW</td>\n      <td>NONE</td>\n      <td>REQUIRED</td>\n      <td>UNCHANGED</td>\n      <td>HIGH</td>\n      <td>HIGH</td>\n      <td>HIGH</td>\n      <td>8.80</td>\n      <td>HIGH</td>\n      <td>2.80</td>\n      <td>5.90</td>\n      <td>2.00</td>\n      <td>AV:N/AC:M/Au:N/C:C/I:C/A:C</td>\n      <td>NETWORK</td>\n      <td>MEDIUM</td>\n      <td>NONE</td>\n      <td>COMPLETE</td>\n      <td>COMPLETE</td>\n      <td>COMPLETE</td>\n      <td>9.30</td>\n      <td>HIGH</td>\n      <td>8.60</td>\n      <td>10.00</td>\n      <td>False</td>\n      <td>False</td>\n      <td>False</td>\n      <td>False</td>\n      <td>True</td>\n      <td>2020-01-08T19:15Z</td>\n      <td>2020-01-29T21:15Z</td>\n    </tr>\n    <tr>\n      <th>2</th>\n      <td>2020-09-05T07:00Z</td>\n      <td>CVE</td>\n      <td>MITRE</td>\n      <td>4.00</td>\n      <td>CVE-2020-0003</td>\n      <td>cve@mitre.org</td>\n      <td>CWE-367</td>\n      <td>https://source.android.com/security/bulletin/2...</td>\n      <td>CONFIRM</td>\n      <td>In onCreate of InstallStart.java, there is a p...</td>\n      <td>3.10</td>\n      <td>CVSS:3.1/AV:L/AC:H/PR:L/UI:R/S:U/C:H/I:H/A:H</td>\n      <td>LOCAL</td>\n      <td>HIGH</td>\n      <td>LOW</td>\n      <td>REQUIRED</td>\n      <td>UNCHANGED</td>\n      <td>HIGH</td>\n      <td>HIGH</td>\n      <td>HIGH</td>\n      <td>6.70</td>\n      <td>MEDIUM</td>\n      <td>0.80</td>\n      <td>5.90</td>\n      <td>2.00</td>\n      <td>AV:L/AC:H/Au:N/C:P/I:P/A:P</td>\n      <td>LOCAL</td>\n      <td>HIGH</td>\n      <td>NONE</td>\n      <td>PARTIAL</td>\n      <td>PARTIAL</td>\n      <td>PARTIAL</td>\n      <td>3.70</td>\n      <td>LOW</td>\n      <td>1.90</td>\n      <td>6.40</td>\n      <td>False</td>\n      <td>False</td>\n      <td>False</td>\n      <td>False</td>\n      <td>True</td>\n      <td>2020-01-08T19:15Z</td>\n      <td>2020-01-29T21:15Z</td>\n    </tr>\n    <tr>\n      <th>3</th>\n      <td>2020-09-05T07:00Z</td>\n      <td>CVE</td>\n      <td>MITRE</td>\n      <td>4.00</td>\n      <td>CVE-2020-0004</td>\n      <td>cve@mitre.org</td>\n      <td>CWE-20</td>\n      <td>https://source.android.com/security/bulletin/2...</td>\n      <td>CONFIRM</td>\n      <td>In generateCrop of WallpaperManagerService.jav...</td>\n      <td>3.10</td>\n      <td>CVSS:3.1/AV:L/AC:L/PR:L/UI:N/S:U/C:N/I:N/A:H</td>\n      <td>LOCAL</td>\n      <td>LOW</td>\n      <td>LOW</td>\n      <td>NONE</td>\n      <td>UNCHANGED</td>\n      <td>NONE</td>\n      <td>NONE</td>\n      <td>HIGH</td>\n      <td>5.50</td>\n      <td>MEDIUM</td>\n      <td>1.80</td>\n      <td>3.60</td>\n      <td>2.00</td>\n      <td>AV:L/AC:L/Au:N/C:N/I:N/A:P</td>\n      <td>LOCAL</td>\n      <td>LOW</td>\n      <td>NONE</td>\n      <td>NONE</td>\n      <td>NONE</td>\n      <td>PARTIAL</td>\n      <td>2.10</td>\n      <td>LOW</td>\n      <td>3.90</td>\n      <td>2.90</td>\n      <td>False</td>\n      <td>False</td>\n      <td>False</td>\n      <td>False</td>\n      <td>False</td>\n      <td>2020-01-08T19:15Z</td>\n      <td>2020-01-29T21:15Z</td>\n    </tr>\n    <tr>\n      <th>4</th>\n      <td>2020-09-05T07:00Z</td>\n      <td>CVE</td>\n      <td>MITRE</td>\n      <td>4.00</td>\n      <td>CVE-2020-0005</td>\n      <td>cve@mitre.org</td>\n      <td>CWE-787</td>\n      <td>https://source.android.com/security/bulletin/2...</td>\n      <td>MISC</td>\n      <td>In btm_read_remote_ext_features_complete of bt...</td>\n      <td>3.10</td>\n      <td>CVSS:3.1/AV:L/AC:L/PR:H/UI:N/S:U/C:H/I:H/A:H</td>\n      <td>LOCAL</td>\n      <td>LOW</td>\n      <td>HIGH</td>\n      <td>NONE</td>\n      <td>UNCHANGED</td>\n      <td>HIGH</td>\n      <td>HIGH</td>\n      <td>HIGH</td>\n      <td>6.70</td>\n      <td>MEDIUM</td>\n      <td>0.80</td>\n      <td>5.90</td>\n      <td>2.00</td>\n      <td>AV:L/AC:L/Au:N/C:C/I:C/A:C</td>\n      <td>LOCAL</td>\n      <td>LOW</td>\n      <td>NONE</td>\n      <td>COMPLETE</td>\n      <td>COMPLETE</td>\n      <td>COMPLETE</td>\n      <td>7.20</td>\n      <td>HIGH</td>\n      <td>3.90</td>\n      <td>10.00</td>\n      <td>False</td>\n      <td>False</td>\n      <td>False</td>\n      <td>False</td>\n      <td>False</td>\n      <td>2020-02-13T15:15Z</td>\n      <td>2020-02-18T13:15Z</td>\n    </tr>\n  </tbody>\n</table>\n</div>"
     },
     "metadata": {},
     "execution_count": 12
    }
   ],
   "source": [
    "df = pd.read_csv(\"D:\\\\repos\\\\APDSProject\\\\MLTuning\\\\datacleanup\\\\cvss_final_dataset.csv\")\n",
    "\n",
    "df.shape\n",
    "df.info\n",
    "df.head()\n"
   ]
  },
  {
   "cell_type": "code",
   "execution_count": null,
   "metadata": {},
   "outputs": [],
   "source": [
    "display(df.iloc[0])"
   ]
  },
  {
   "cell_type": "code",
   "execution_count": null,
   "metadata": {},
   "outputs": [],
   "source": [
    "df.isnull().any()"
   ]
  },
  {
   "cell_type": "code",
   "execution_count": null,
   "metadata": {},
   "outputs": [],
   "source": [
    "pd.options.display.float_format = '{:,.2f}'.format\n",
    "pd.set_option('display.max_columns', 500)\n",
    "pd.set_option('display.width', 1000)\n",
    "df.describe()"
   ]
  },
  {
   "cell_type": "code",
   "execution_count": null,
   "metadata": {},
   "outputs": [],
   "source": [
    "num_col = list(df.describe().columns)\n",
    "col_categorical = list(set(df.columns).difference(num_col))\n",
    "remove_list = ['data_type', 'data_format', 'data_version','data_meta_ASSIGNER','cvssV3_version','cvssV3_vectorString','cvssV2_version','cvssV2_vectorString']\n",
    "col_numerical = [e for e in num_col if e not in remove_list]"
   ]
  }
 ]
}