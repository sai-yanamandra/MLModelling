{
 "metadata": {
  "language_info": {
   "codemirror_mode": {
    "name": "ipython",
    "version": 3
   },
   "file_extension": ".py",
   "mimetype": "text/x-python",
   "name": "python",
   "nbconvert_exporter": "python",
   "pygments_lexer": "ipython3",
   "version": "3.7.9-final"
  },
  "orig_nbformat": 2,
  "kernelspec": {
   "name": "Python 3.7.9 64-bit",
   "display_name": "Python 3.7.9 64-bit",
   "metadata": {
    "interpreter": {
     "hash": "38740d3277777e2cd7c6c2cc9d8addf5118fdf3f82b1b39231fd12aeac8aee8b"
    }
   }
  }
 },
 "nbformat": 4,
 "nbformat_minor": 2,
 "cells": [
  {
   "cell_type": "code",
   "execution_count": 2,
   "metadata": {
    "tags": []
   },
   "outputs": [
    {
     "output_type": "stream",
     "name": "stdout",
     "text": [
      "1.19.2\n1.1.3\n3.7.9 (tags/v3.7.9:13c94747c7, Aug 17 2020, 18:58:18) [MSC v.1900 64 bit (AMD64)]\n0.11.0\n"
     ]
    }
   ],
   "source": [
    "import pandas as pd\n",
    "import numpy as np\n",
    "import matplotlib.pyplot as plt\n",
    "%matplotlib inline\n",
    "import seaborn as sns\n",
    "\n",
    "print(np.__version__)\n",
    "print(pd.__version__)\n",
    "import sys\n",
    "print(sys.version)\n",
    "print(sns.__version__)"
   ]
  },
  {
   "cell_type": "code",
   "execution_count": 13,
   "metadata": {},
   "outputs": [
    {
     "output_type": "execute_result",
     "data": {
      "text/plain": [
       "Base        29058\n",
       "Class       22371\n",
       "Variant      1965\n",
       "Compound     1776\n",
       "Pillar        906\n",
       "Name: Weakness Abstraction, dtype: int64"
      ]
     },
     "metadata": {},
     "execution_count": 13
    }
   ],
   "source": [
    "df = pd.read_csv(\"D:\\\\repos\\\\APDSProject\\\\MLTuning\\\\modeling\\\\CWE_Inputs.csv\")\n",
    "df.shape\n",
    "df.columns\n",
    "#df['Phase'].value_counts()\n",
    "df['Weakness Abstraction'].value_counts()"
   ]
  },
  {
   "cell_type": "code",
   "execution_count": 21,
   "metadata": {},
   "outputs": [
    {
     "output_type": "stream",
     "name": "stdout",
     "text": [
      "<class 'pandas.core.frame.DataFrame'>\nRangeIndex: 67113 entries, 0 to 67112\nData columns (total 43 columns):\n #   Column                                Non-Null Count  Dtype  \n---  ------                                --------------  -----  \n 0   timestamp                             67113 non-null  object \n 1   data_type                             67113 non-null  object \n 2   data_format                           67113 non-null  object \n 3   data_version                          67113 non-null  float64\n 4   data_meta_ID                          67113 non-null  object \n 5   data_meta_ASSIGNER                    67113 non-null  object \n 6   problemtype_value                     67113 non-null  object \n 7   reference_data_url                    67113 non-null  object \n 8   reference_data_refsource              66712 non-null  object \n 9   description                           67113 non-null  object \n 10  cvssV3_version                        67113 non-null  float64\n 11  cvssV3_vectorString                   67113 non-null  object \n 12  cvssV3_attackVector                   67113 non-null  object \n 13  cvssV3_attackComplexity               67113 non-null  object \n 14  cvssV3_privilegesRequired             67113 non-null  object \n 15  cvssV3_userInteraction                67113 non-null  object \n 16  cvssV3_scope                          67113 non-null  object \n 17  cvssV3_confidentialityImpact          67113 non-null  object \n 18  cvssV3_integrityImpact                67113 non-null  object \n 19  cvssV3_availabilityImpact             67113 non-null  object \n 20  cvssV3_baseScore                      67113 non-null  float64\n 21  cvssV3_baseSeverity                   67113 non-null  object \n 22  baseMetricV3_exploitabilityScore      67113 non-null  float64\n 23  baseMetricV3_impactScore              67113 non-null  float64\n 24  cvssV2_version                        67113 non-null  float64\n 25  cvssV2_vectorString                   67113 non-null  object \n 26  cvssV2_accessVector                   67113 non-null  object \n 27  cvssV2_accessComplexity               67113 non-null  object \n 28  cvssV2_authentication                 67113 non-null  object \n 29  cvssV2_confidentialityImpact          67113 non-null  object \n 30  cvssV2_integrityImpact                67113 non-null  object \n 31  cvssV2_availabilityImpact             67113 non-null  object \n 32  cvssV2_baseScore                      67113 non-null  float64\n 33  baseMetricV2_severity                 67113 non-null  object \n 34  baseMetricV2_exploitabilityScore      67113 non-null  float64\n 35  baseMetricV2_impactScore              67113 non-null  float64\n 36  baseMetricV2_acInsufInfo              67113 non-null  object \n 37  baseMetricV2_obtainAllPrivilege       67113 non-null  bool   \n 38  baseMetricV2_obtainUserPrivilege      67113 non-null  bool   \n 39  baseMetricV2_obtainOtherPrivilege     67113 non-null  bool   \n 40  baseMetricV2_userInteractionRequired  67113 non-null  object \n 41  publishedDate                         67113 non-null  object \n 42  lastModifiedDate                      67113 non-null  object \ndtypes: bool(3), float64(9), object(31)\nmemory usage: 20.7+ MB\n"
     ]
    }
   ],
   "source": [
    "df = pd.read_csv(\"D:\\\\repos\\\\APDSProject\\\\MLTuning\\\\datacleanup\\\\cvss_final_dataset.csv\")\n",
    "df.head()\n",
    "df.shape\n",
    "df.info()\n",
    "df.columns\n",
    "\n"
   ]
  },
  {
   "cell_type": "code",
   "execution_count": 8,
   "metadata": {},
   "outputs": [],
   "source": [
    "def my_tokenizer(text):\n",
    "    return text.split(' ') if text != None else []\n",
    "\n",
    "tokens = df['description'].map(my_tokenizer).sum()\n",
    "\n"
   ]
  },
  {
   "cell_type": "code",
   "execution_count": 13,
   "metadata": {},
   "outputs": [],
   "source": [
    "valsLower = [item.lower() for item in tokens]"
   ]
  },
  {
   "cell_type": "code",
   "execution_count": 15,
   "metadata": {},
   "outputs": [],
   "source": [
    "from spacy.lang.en.stop_words import STOP_WORDS \n",
    "\n",
    "def remove_stopwords(tokens):\n",
    "    return [t for t in valsLower if t not in STOP_WORDS]"
   ]
  },
  {
   "cell_type": "code",
   "execution_count": 16,
   "metadata": {},
   "outputs": [],
   "source": [
    "from collections import Counter\n",
    "counter = Counter(remove_stopwords(valsLower))"
   ]
  },
  {
   "cell_type": "code",
   "execution_count": 19,
   "metadata": {},
   "outputs": [
    {
     "output_type": "execute_result",
     "data": {
      "text/plain": [
       "[('vulnerability', 36690),\n",
       " ('allows', 25256),\n",
       " ('attacker', 21935),\n",
       " ('remote', 20871),\n",
       " ('attackers', 14675),\n",
       " ('arbitrary', 14569),\n",
       " ('code', 14526),\n",
       " ('access', 14368),\n",
       " ('versions', 12585),\n",
       " ('crafted', 11482),\n",
       " ('service', 11220),\n",
       " ('user', 11085),\n",
       " ('issue', 11083),\n",
       " ('allow', 10894),\n",
       " ('cause', 10632),\n",
       " ('oracle', 10574),\n",
       " ('denial', 9617),\n",
       " ('windows', 9379),\n",
       " ('affected', 9361),\n",
       " ('execute', 8908),\n",
       " ('server', 8474),\n",
       " ('prior', 7945),\n",
       " ('information', 7556),\n",
       " ('sd', 7516),\n",
       " ('successful', 7356),\n",
       " ('version', 7263),\n",
       " ('web', 7104),\n",
       " ('data', 7061),\n",
       " ('exploit', 6635),\n",
       " ('file', 6440),\n",
       " ('discovered', 6274),\n",
       " ('users', 6154),\n",
       " ('attacks', 6118),\n",
       " ('exists', 6051),\n",
       " ('local', 6036),\n",
       " ('earlier', 5942),\n",
       " ('cvss', 5808),\n",
       " ('execution', 5600),\n",
       " ('function', 5580),\n",
       " ('memory', 5267),\n",
       " ('aka', 5140),\n",
       " ('malicious', 5042),\n",
       " ('buffer', 5002),\n",
       " ('unauthorized', 4925),\n",
       " ('network', 4837),\n",
       " ('ibm', 4710),\n",
       " ('system', 4686),\n",
       " ('application', 4474),\n",
       " ('result', 4472),\n",
       " ('unspecified', 4415),\n",
       " ('overflow', 4401),\n",
       " ('android', 4375),\n",
       " ('read', 4369),\n",
       " ('cisco', 4338),\n",
       " ('lead', 4337),\n",
       " ('authenticated', 4284),\n",
       " ('earlier,', 4166),\n",
       " ('snapdragon', 4088),\n",
       " ('privilege', 3975),\n",
       " ('cross-site', 3953),\n",
       " ('vulnerable', 3927),\n",
       " ('http', 3922),\n",
       " ('component', 3865),\n",
       " ('software', 3851),\n",
       " ('exploitable', 3844),\n",
       " ('scripting', 3764),\n",
       " ('privileges', 3737),\n",
       " ('management', 3726),\n",
       " ('sensitive', 3682),\n",
       " ('vulnerability.', 3590),\n",
       " ('security', 3551),\n",
       " ('id:', 3528),\n",
       " ('accessible', 3425),\n",
       " ('xss', 3414),\n",
       " ('disclosure', 3396),\n",
       " ('microsoft', 3381),\n",
       " ('request', 3273),\n",
       " ('score', 3191),\n",
       " ('injection', 3177),\n",
       " ('unauthenticated', 3175),\n",
       " ('compromise', 3172),\n",
       " ('base', 3164),\n",
       " ('devices', 3162),\n",
       " ('java', 3054),\n",
       " ('obtain', 3043),\n",
       " ('files', 3030),\n",
       " ('certain', 3001),\n",
       " ('use', 2971),\n",
       " ('bypass', 2957),\n",
       " ('supported', 2931),\n",
       " ('device', 2897),\n",
       " ('impact', 2875),\n",
       " ('id', 2848),\n",
       " ('impacts).', 2835),\n",
       " ('input', 2818),\n",
       " ('enterprise', 2787),\n",
       " ('interaction', 2782),\n",
       " ('potentially', 2772),\n",
       " ('affects', 2728),\n",
       " ('html', 2723)]"
      ]
     },
     "metadata": {},
     "execution_count": 19
    }
   ],
   "source": [
    "counter.most_common(100)"
   ]
  },
  {
   "cell_type": "code",
   "execution_count": null,
   "metadata": {},
   "outputs": [],
   "source": [
    "#tokens.remove('SCOPE')\n",
    "tokens = [ elem for elem in tokens if elem != 'SCOPE']\n",
    "tokens = [ elem for elem in tokens if elem != 'IMPACT']\n",
    "tokens = [ elem for elem in tokens if elem != 'NOTE']\n",
    "tokens = [ elem for elem in tokens if elem != 'Access Control']\n",
    "tokens = [ elem for elem in tokens if elem != 'Authentication']\n",
    "tokens = [ elem for elem in tokens if elem != 'Availability']\n",
    "tokens = [ elem for elem in tokens if elem != 'Confidentiality']\n",
    "tokens = [ elem for elem in tokens if elem != 'Integrity']\n",
    "tokens = [ elem for elem in tokens if elem != 'Non-Repudiation']\n",
    "tokens = [ elem for elem in tokens if elem != 'Other']"
   ]
  },
  {
   "cell_type": "code",
   "execution_count": null,
   "metadata": {},
   "outputs": [],
   "source": [
    "from collections import Counter\n",
    "\n",
    "counter = Counter(tokens)\n",
    "counter.most_common(20)"
   ]
  },
  {
   "cell_type": "markdown",
   "metadata": {},
   "source": [
    "# Remove Unwanted Columns"
   ]
  },
  {
   "cell_type": "code",
   "execution_count": null,
   "metadata": {},
   "outputs": [],
   "source": [
    "\n",
    "remove_list = ['timestamp','data_type','data_format', 'data_version','data_meta_ASSIGNER','cvssV3_version','cvssV3_vectorString','cvssV2_version','cvssV2_vectorString']\n",
    "\n",
    "df.drop(remove_list,axis = 1, inplace = True)\n",
    "df.info\n",
    "df.shape\n",
    "\n"
   ]
  },
  {
   "cell_type": "markdown",
   "metadata": {},
   "source": [
    "# Prepare CVSS3 Data Frame\n",
    "\n",
    "\n"
   ]
  },
  {
   "cell_type": "code",
   "execution_count": null,
   "metadata": {},
   "outputs": [],
   "source": [
    "df.columns\n",
    "cvss3_features = ['cvssV3_attackVector', 'cvssV3_attackComplexity', 'cvssV3_privilegesRequired', 'cvssV3_userInteraction', 'cvssV3_scope','cvssV3_confidentialityImpact', 'cvssV3_integrityImpact','cvssV3_availabilityImpact', 'cvssV3_baseScore', 'cvssV3_baseSeverity',      'baseMetricV3_exploitabilityScore', 'baseMetricV3_impactScore', ]\n",
    "\n",
    "cvss3_df = df[cvss3_features]\n",
    "\n",
    "cvss3_df.columns\n",
    "cvss3_df.info\n",
    "cvss3_df.shape\n"
   ]
  },
  {
   "cell_type": "markdown",
   "metadata": {},
   "source": [
    "# Extract the numerical and categorical columns from CVSS Version 3 Featue Set"
   ]
  },
  {
   "cell_type": "code",
   "execution_count": null,
   "metadata": {},
   "outputs": [],
   "source": [
    "cvssv3_numerical_col = list(cvss3_df.describe().columns)\n",
    "cvssv3_categorical_col = list(set(cvss3_df.columns).difference(cvssv3_numerical_col))\n",
    "\n",
    "cvssv3_numerical_col\n"
   ]
  },
  {
   "cell_type": "code",
   "execution_count": null,
   "metadata": {},
   "outputs": [],
   "source": [
    "cvss3_df[cvssv3_numerical_col].corr()\n",
    "plt.figure(figsize=(24,8))\n",
    "sns.heatmap(cvss3_df[cvssv3_numerical_col].corr(), annot=True, fmt=\".2f\");"
   ]
  },
  {
   "cell_type": "code",
   "execution_count": null,
   "metadata": {
    "tags": []
   },
   "outputs": [],
   "source": [
    "pd.options.display.float_format = '{:,.2f}'.format\n",
    "pd.set_option('display.max_columns', 500)\n",
    "pd.set_option('display.width', 1000)\n",
    "cvss3_df.describe()\n",
    "cvss3_df.head"
   ]
  },
  {
   "cell_type": "markdown",
   "metadata": {},
   "source": [
    "# Prepare the features for modelling"
   ]
  },
  {
   "cell_type": "code",
   "execution_count": null,
   "metadata": {
    "tags": []
   },
   "outputs": [],
   "source": [
    "\n",
    "cvssv3_model_df= cvss3_df[cvssv3_categorical_col]\n",
    "cvssv3_model_df.columns\n",
    "\n",
    "#cvssv3_model_df.info"
   ]
  },
  {
   "cell_type": "code",
   "execution_count": null,
   "metadata": {},
   "outputs": [],
   "source": [
    "cvssv3_model_df.isnull().any()"
   ]
  },
  {
   "cell_type": "code",
   "execution_count": null,
   "metadata": {},
   "outputs": [],
   "source": [
    "cvssv3_categorical_col"
   ]
  },
  {
   "cell_type": "code",
   "execution_count": null,
   "metadata": {},
   "outputs": [],
   "source": [
    "cvssv3_categorical_col.remove('cvssV3_baseSeverity')\n"
   ]
  },
  {
   "cell_type": "markdown",
   "metadata": {},
   "source": [
    "# Perform One Hot Encoding\n",
    "# https://towardsdatascience.com/encoding-categorical-features-21a2651a065c"
   ]
  },
  {
   "cell_type": "code",
   "execution_count": null,
   "metadata": {},
   "outputs": [],
   "source": [
    "df_v3_model = pd.get_dummies(cvssv3_model_df[cvssv3_categorical_col])\n"
   ]
  },
  {
   "cell_type": "code",
   "execution_count": null,
   "metadata": {
    "tags": []
   },
   "outputs": [],
   "source": [
    "pd.options.display.float_format = '{:,.2f}'.format\n",
    "pd.set_option('display.max_columns', 500)\n",
    "pd.set_option('display.width', 1000)\n",
    "df_v3_model.describe()\n",
    "df_v3_model.info"
   ]
  },
  {
   "cell_type": "code",
   "execution_count": null,
   "metadata": {},
   "outputs": [],
   "source": [
    "plt.figure(figsize=(24,8))\n",
    "sns.heatmap(df_v3_model.corr(), annot=True, fmt=\".2f\");"
   ]
  },
  {
   "cell_type": "code",
   "execution_count": null,
   "metadata": {},
   "outputs": [],
   "source": [
    "import numpy as np\n",
    "\n",
    "# Create correlation matrix\n",
    "corr_matrix = df_v3_model.corr().abs()\n",
    "\n",
    "# Select upper triangle of correlation matrix\n",
    "upper = corr_matrix.where(np.triu(np.ones(corr_matrix.shape), k=1).astype(np.bool))\n",
    "\n",
    "# Find features with correlation greater than 0.95\n",
    "to_drop = [column for column in upper.columns if any(upper[column] > 0.70)]\n",
    "\n",
    "\n",
    "# Drop features \n",
    "df_v3_model.drop(to_drop, axis=1, inplace=True)\n",
    "to_drop"
   ]
  },
  {
   "cell_type": "code",
   "execution_count": null,
   "metadata": {},
   "outputs": [],
   "source": [
    "#X = pd.concat([df['cvssV3_baseScore'], df_v3_model], axis=1)\n",
    "X = df_v3_model\n",
    "X.shape\n",
    "#X.columns"
   ]
  },
  {
   "cell_type": "code",
   "execution_count": null,
   "metadata": {},
   "outputs": [],
   "source": [
    "plt.figure(figsize=(24,8))\n",
    "\n",
    "# Mask for the upper triangle\n",
    "mask = np.zeros_like(X.corr(), dtype=np.bool)\n",
    "mask[np.triu_indices_from(mask)] = True\n",
    "\n",
    "# Generate a custom diverging colormap\n",
    "#cmap = sns.diverging_palette(10, 220, as_cmap=True)\n",
    "cmap = sns.light_palette((210, 90, 60), input=\"husl\")\n",
    "\n",
    "# Heatmap with mask\n",
    "sns.heatmap(X.corr(), mask=mask, cmap=cmap, annot=True, fmt=\".2f\");"
   ]
  },
  {
   "cell_type": "code",
   "execution_count": null,
   "metadata": {
    "tags": []
   },
   "outputs": [],
   "source": [
    "correlatedColumns = []\n",
    "corr = X.corr()\n",
    "indices = corr.index\n",
    "columns = corr.columns\n",
    "posthreshold = 0.7\n",
    "negthreshold = -0.7\n",
    "\n",
    "for c in columns:\n",
    "    for r in indices:\n",
    "        if c != r and (corr[c][r] > posthreshold or corr[c][r] < negthreshold):\n",
    "            print(\"column \"  + c , \"  row \" + r + \"  val \" + str(corr[c][r]) )\n",
    "            correlatedColumns.append({\"column\" : c , \"row\" : r , \"val\" :corr[c][r] })\n",
    "            \n",
    "\n",
    "print(correlatedColumns)"
   ]
  },
  {
   "cell_type": "code",
   "execution_count": null,
   "metadata": {},
   "outputs": [],
   "source": [
    "cvssv3_model_df.columns\n",
    "cvssv3_model_df.cvssV3_privilegesRequired.unique\n",
    "cvssv3_model_df.cvssV3_integrityImpact.unique"
   ]
  },
  {
   "source": [
    "# Prepare the features with basic categorization"
   ],
   "cell_type": "markdown",
   "metadata": {}
  },
  {
   "cell_type": "code",
   "execution_count": null,
   "metadata": {
    "tags": []
   },
   "outputs": [],
   "source": [
    "def calculateSeverityScore(row):\n",
    "    #baseScore = score\n",
    "    if (row['cvssV3_attackVector'] == \"NETWORK\" and row['cvssV3_availabilityImpact'] == \"HIGH\" and row['cvssV3_integrityImpact'] == \"HIGH\" and row['cvssV3_privilegesRequired'] == \"NONE\" and row['cvssV3_userInteraction'] == \"NONE\"):\n",
    "        return 'CRITICAL'\n",
    "    elif (row['cvssV3_attackVector'] == 'NETWORK' and row['cvssV3_availabilityImpact'] == 'HIGH' and row['cvssV3_integrityImpact'] == 'HIGH' and row['cvssV3_privilegesRequired'] == 'NONE' and row['cvssV3_userInteraction'] == 'REQUIRED'):\n",
    "        return 'CRITICAL'\n",
    "    elif (row['cvssV3_attackVector'] == 'NETWORK' and row['cvssV3_availabilityImpact'] == 'HIGH' and row['cvssV3_integrityImpact'] == 'HIGH' and row['cvssV3_privilegesRequired'] != 'NONE'):\n",
    "        return 'HIGH'\n",
    "    elif (row['cvssV3_attackVector'] == 'NETWORK' and row['cvssV3_integrityImpact'] == 'HIGH' and row['cvssV3_privilegesRequired'] == 'NONE'):\n",
    "        return 'HIGH'\n",
    "    elif (row['cvssV3_attackVector'] == 'NETWORK' and row['cvssV3_integrityImpact'] == 'HIGH' and row['cvssV3_privilegesRequired'] != 'NONE'):\n",
    "        return 'HIGH'\n",
    "    elif (row['cvssV3_availabilityImpact'] != 'HIGH' and row['cvssV3_confidentialityImpact'] != 'LOW' and row['cvssV3_userInteraction'] == 'NONE' and row['cvssV3_integrityImpact'] != 'HIGH' and row['cvssV3_privilegesRequired'] == 'NONE'):\n",
    "        return 'HIGH'\n",
    "    elif (row['cvssV3_confidentialityImpact'] != 'LOW' and row['cvssV3_userInteraction'] == 'REQUIRED' and row['cvssV3_integrityImpact'] != 'HIGH' and row['cvssV3_privilegesRequired'] == 'NONE'):\n",
    "        return 'LOW'        \n",
    "    elif (row['cvssV3_confidentialityImpact'] == 'LOW' and row['cvssV3_integrityImpact'] != 'HIGH' and row['cvssV3_privilegesRequired'] == 'NONE'):\n",
    "        return 'LOW'         \n",
    "    elif (row['cvssV3_confidentialityImpact'] != 'LOW' and row['cvssV3_integrityImpact'] != 'HIGH' and row['cvssV3_privilegesRequired'] != 'NONE'):\n",
    "        return 'LOW'            \n",
    "    elif (row['cvssV3_confidentialityImpact'] != 'LOW' and row['cvssV3_integrityImpact'] != 'HIGH' and row['cvssV3_privilegesRequired'] != 'NONE'):\n",
    "        return 'LOW'\n",
    "    else:\n",
    "        return 'LOW'\n",
    "\n",
    "#severity = calculateSeverityScore(cvss3_df.iloc[0]['cvssV3_baseScore'])\n",
    "#severity\n",
    "\n",
    "cvssv3_model_df['Severity_Score'] = cvssv3_model_df.apply(lambda row: calculateSeverityScore(row),axis=1)\n"
   ]
  },
  {
   "cell_type": "code",
   "execution_count": null,
   "metadata": {},
   "outputs": [],
   "source": [
    "cvssv3_model_df['Severity_Score'].unique()"
   ]
  },
  {
   "cell_type": "code",
   "execution_count": null,
   "metadata": {},
   "outputs": [],
   "source": [
    "severity_to_num = {'CRITICAL': 1,\n",
    "                    'HIGH': 2,\n",
    "                    'LOW': 3}\n",
    "cvssv3_model_df['Severity_Score_Num'] = cvssv3_model_df['Severity_Score'].map(severity_to_num)"
   ]
  },
  {
   "cell_type": "code",
   "execution_count": null,
   "metadata": {},
   "outputs": [],
   "source": [
    "cvssv3_model_df['Severity_Score_Num'].unique()\n"
   ]
  },
  {
   "cell_type": "code",
   "execution_count": null,
   "metadata": {},
   "outputs": [],
   "source": [
    "cvssv3_model_df.rename(columns = {'Severity_Score':'Severity_Score_Text'}, inplace = True)\n"
   ]
  },
  {
   "cell_type": "code",
   "execution_count": null,
   "metadata": {},
   "outputs": [],
   "source": [
    "cvssv3_model_df.columns"
   ]
  },
  {
   "cell_type": "code",
   "execution_count": null,
   "metadata": {},
   "outputs": [],
   "source": [
    "cvssv3_model_df.rename(columns = {'Severity_Score_Num':'Severity_Score'}, inplace = True)\n",
    "Y = cvssv3_model_df['Severity_Score']\n",
    "Y.head\n"
   ]
  },
  {
   "cell_type": "code",
   "execution_count": null,
   "metadata": {},
   "outputs": [],
   "source": [
    "X.to_csv(\"features.csv\", index=False, encoding='utf8')\n"
   ]
  },
  {
   "cell_type": "code",
   "execution_count": null,
   "metadata": {},
   "outputs": [],
   "source": [
    "Y.to_csv(\"classes.csv\",index=False,encoding='utf8')"
   ]
  },
  {
   "cell_type": "code",
   "execution_count": null,
   "metadata": {
    "tags": []
   },
   "outputs": [],
   "source": [
    "X.head"
   ]
  },
  {
   "cell_type": "code",
   "execution_count": null,
   "metadata": {},
   "outputs": [],
   "source": [
    "Y.head"
   ]
  },
  {
   "cell_type": "markdown",
   "metadata": {},
   "source": [
    "# Split the data set into 70% training and 30% test "
   ]
  },
  {
   "cell_type": "code",
   "execution_count": null,
   "metadata": {},
   "outputs": [],
   "source": [
    "from sklearn.model_selection import train_test_split\n",
    "from sklearn.tree import DecisionTreeClassifier\n",
    "\n",
    "X_train, X_test, y_train, y_test = train_test_split(X, Y, test_size=0.3, random_state=1) # 70% training and 30% test\n",
    "\n",
    "# Create Decision Tree classifer object\n",
    "clf = DecisionTreeClassifier()\n",
    "\n",
    "# Train Decision Tree Classifer\n",
    "clf = clf.fit(X_train,y_train)\n",
    "\n",
    "#Predict the response for test dataset\n",
    "y_pred = clf.predict(X_test)"
   ]
  },
  {
   "cell_type": "code",
   "execution_count": null,
   "metadata": {},
   "outputs": [],
   "source": [
    "clf.fit(X_train, y_train)\n",
    "\n"
   ]
  },
  {
   "cell_type": "code",
   "execution_count": null,
   "metadata": {},
   "outputs": [],
   "source": [
    "from sklearn.tree.export import export_text\n",
    "tree_rules = export_text(clf, feature_names = list(X.columns))\n",
    "tree_rules"
   ]
  },
  {
   "cell_type": "code",
   "execution_count": null,
   "metadata": {},
   "outputs": [],
   "source": [
    "def get_code(tree, feature_names):\n",
    "        left      = tree.tree_.children_left\n",
    "        right     = tree.tree_.children_right\n",
    "        threshold = tree.tree_.threshold\n",
    "        features  = [feature_names[i] for i in tree.tree_.feature]\n",
    "        value = tree.tree_.value\n",
    "\n",
    "        def recurse(left, right, threshold, features, node):\n",
    "                if (threshold[node] != -2):\n",
    "                        print (\"if ( \" + features[node] + \" <= \" + str(threshold[node]) + \" ) {\")\n",
    "                        if left[node] != -1:\n",
    "                                recurse (left, right, threshold, features,left[node])\n",
    "                        print (\"} else {\")\n",
    "                        if right[node] != -1:\n",
    "                                recurse (left, right, threshold, features,right[node])\n",
    "                        print (\"}\")\n",
    "                else:\n",
    "                        print (\"return \" + str(value[node]))\n",
    "\n",
    "        recurse(left, right, threshold, features, 0)\n",
    "\n"
   ]
  },
  {
   "cell_type": "code",
   "execution_count": null,
   "metadata": {
    "tags": []
   },
   "outputs": [],
   "source": [
    "    get_code(clf,list(X.columns))"
   ]
  },
  {
   "cell_type": "code",
   "execution_count": null,
   "metadata": {},
   "outputs": [],
   "source": [
    "from sklearn.metrics import accuracy_score, classification_report, confusion_matrix"
   ]
  },
  {
   "cell_type": "code",
   "execution_count": null,
   "metadata": {},
   "outputs": [],
   "source": [
    "accuracy_score(y_train, clf.predict(X_train))"
   ]
  },
  {
   "cell_type": "code",
   "execution_count": null,
   "metadata": {
    "tags": []
   },
   "outputs": [],
   "source": [
    "print(classification_report(y_train, clf.predict(X_train)))"
   ]
  },
  {
   "cell_type": "code",
   "execution_count": null,
   "metadata": {},
   "outputs": [],
   "source": [
    "confusion_matrix(y_train, clf.predict(X_train))"
   ]
  },
  {
   "cell_type": "code",
   "execution_count": null,
   "metadata": {},
   "outputs": [],
   "source": [
    "accuracy_score(y_test, clf.predict(X_test))"
   ]
  },
  {
   "cell_type": "code",
   "execution_count": null,
   "metadata": {
    "tags": []
   },
   "outputs": [],
   "source": [
    "print(classification_report(y_test, clf.predict(X_test)))"
   ]
  },
  {
   "cell_type": "code",
   "execution_count": null,
   "metadata": {},
   "outputs": [],
   "source": [
    "confusion_matrix(y_test, clf.predict(X_test))"
   ]
  },
  {
   "cell_type": "code",
   "execution_count": null,
   "metadata": {},
   "outputs": [],
   "source": [
    "from sklearn import preprocessing\n",
    "from sklearn.model_selection import cross_val_score, cross_val_predict\n",
    "from sklearn.metrics import accuracy_score, classification_report\n",
    "from sklearn.metrics import confusion_matrix, roc_auc_score\n",
    "def print_score(clf, X_train, X_test, y_train, y_test, train=True):\n",
    "    '''\n",
    "    v0.1 Follow the scikit learn library format in terms of input\n",
    "    print the accuracy score, classification report and confusion matrix of classifier\n",
    "    '''\n",
    "    lb = preprocessing.LabelBinarizer()\n",
    "    lb.fit(y_train)\n",
    "    if train:\n",
    "        '''\n",
    "        training performance\n",
    "        '''\n",
    "        res = clf.predict(X_train)\n",
    "        print(\"Train Result:\\n\")\n",
    "        print(\"accuracy score: {0:.4f}\\n\".format(accuracy_score(y_train, \n",
    "                                                                res)))\n",
    "        print(\"Classification Report: \\n {}\\n\".format(classification_report(y_train, \n",
    "                                                                            res)))\n",
    "        print(\"Confusion Matrix: \\n {}\\n\".format(confusion_matrix(y_train, \n",
    "                                                                  res)))\n",
    "        print(\"ROC AUC: {0:.4f}\\n\".format(roc_auc_score(lb.transform(y_train), \n",
    "                                                      lb.transform(res))))\n",
    "\n",
    "        #res = cross_val_score(clf, X_train, y_train, cv=10, scoring='accuracy')\n",
    "        #print(\"Average Accuracy: \\t {0:.4f}\".format(np.mean(res)))\n",
    "        #print(\"Accuracy SD: \\t\\t {0:.4f}\".format(np.std(res)))\n",
    "        \n",
    "    elif train==False:\n",
    "        '''\n",
    "        test performance\n",
    "        '''\n",
    "        res_test = clf.predict(X_test)\n",
    "        print(\"Test Result:\\n\")        \n",
    "        print(\"accuracy score: {0:.4f}\\n\".format(accuracy_score(y_test, \n",
    "                                                                res_test)))\n",
    "        print(\"Classification Report: \\n {}\\n\".format(classification_report(y_test, \n",
    "                                                                            res_test)))\n",
    "        print(\"Confusion Matrix: \\n {}\\n\".format(confusion_matrix(y_test, \n",
    "                                                                  res_test)))   \n",
    "        print(\"ROC AUC: {0:.4f}\\n\".format(roc_auc_score(lb.transform(y_test), \n",
    "                                                      lb.transform(res_test))))"
   ]
  },
  {
   "cell_type": "code",
   "execution_count": null,
   "metadata": {
    "tags": []
   },
   "outputs": [],
   "source": [
    "print_score(clf, X_train, X_test, y_train, y_test, train=True)\n",
    "print_score(clf, X_train, X_test, y_train, y_test, train=False)"
   ]
  },
  {
   "cell_type": "code",
   "execution_count": null,
   "metadata": {
    "tags": []
   },
   "outputs": [],
   "source": [
    "from sklearn import tree\n",
    "\n",
    "text_representation = tree.export_text(clf)\n",
    "print(text_representation)"
   ]
  },
  {
   "cell_type": "code",
   "execution_count": null,
   "metadata": {},
   "outputs": [],
   "source": [
    "def my_tokenizer(text):\n",
    "    return text.split(':') if text != None else []"
   ]
  },
  {
   "cell_type": "code",
   "execution_count": null,
   "metadata": {},
   "outputs": [],
   "source": [
    "len(Text_df)"
   ]
  },
  {
   "cell_type": "code",
   "execution_count": null,
   "metadata": {},
   "outputs": [],
   "source": [
    "Text_df = pd.read_csv(\"D:\\\\repos\\\\APDSProject\\\\MLTuning\\\\datacollection\\\\CWE-Base.csv\")\n",
    "Text_df.shape\n",
    "#Text_df.columns\n",
    "#Text_df.dtypes"
   ]
  },
  {
   "cell_type": "code",
   "execution_count": null,
   "metadata": {},
   "outputs": [],
   "source": [
    "text_df_new = Text_df[Text_df['Common Consequences'].notnull()]\n",
    "text_df_new.shape"
   ]
  },
  {
   "cell_type": "code",
   "execution_count": null,
   "metadata": {},
   "outputs": [],
   "source": [
    "tokens = text_df_new['Common Consequences'].map(my_tokenizer).sum()"
   ]
  },
  {
   "cell_type": "code",
   "execution_count": null,
   "metadata": {},
   "outputs": [],
   "source": [
    "#tokens.remove('SCOPE')\n",
    "tokens = [ elem for elem in tokens if elem != 'SCOPE']\n",
    "tokens = [ elem for elem in tokens if elem != 'IMPACT']\n",
    "tokens = [ elem for elem in tokens if elem != 'NOTE']\n",
    "tokens = [ elem for elem in tokens if elem != 'Access Control']\n",
    "tokens = [ elem for elem in tokens if elem != 'Authentication']\n",
    "tokens = [ elem for elem in tokens if elem != 'Availability']\n",
    "tokens = [ elem for elem in tokens if elem != 'Confidentiality']\n",
    "tokens = [ elem for elem in tokens if elem != 'Integrity']\n",
    "tokens = [ elem for elem in tokens if elem != 'Non-Repudiation']\n",
    "tokens = [ elem for elem in tokens if elem != 'Other']"
   ]
  },
  {
   "cell_type": "code",
   "execution_count": null,
   "metadata": {},
   "outputs": [],
   "source": [
    "from collections import Counter\n",
    "\n",
    "counter = Counter(tokens)\n",
    "counter.most_common(30)\n"
   ]
  },
  {
   "cell_type": "code",
   "execution_count": null,
   "metadata": {},
   "outputs": [],
   "source": [
    "Text_df['CWE-ID'].head"
   ]
  },
  {
   "cell_type": "code",
   "execution_count": null,
   "metadata": {},
   "outputs": [],
   "source": [
    "def checkConsequence(text):\n",
    "    check = Text_df[Text_df['Common Consequences'].str.contains('Crash, Exit, or Restart')"
   ]
  }
 ]
}