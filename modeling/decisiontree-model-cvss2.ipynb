{
 "metadata": {
  "language_info": {
   "codemirror_mode": {
    "name": "ipython",
    "version": 3
   },
   "file_extension": ".py",
   "mimetype": "text/x-python",
   "name": "python",
   "nbconvert_exporter": "python",
   "pygments_lexer": "ipython3",
   "version": "3.7.6-final"
  },
  "orig_nbformat": 2,
  "kernelspec": {
   "name": "python_defaultSpec_1601992166867",
   "display_name": "Python 3.7.6 64-bit ('base': conda)",
   "metadata": {
    "interpreter": {
     "hash": "2db524e06e9f5f4ffedc911c917cb75e12dbc923643829bf417064a77eb14d37"
    }
   }
  }
 },
 "nbformat": 4,
 "nbformat_minor": 2,
 "cells": [
  {
   "cell_type": "code",
   "execution_count": null,
   "metadata": {
    "tags": []
   },
   "outputs": [],
   "source": [
    "import pandas as pd\n",
    "import numpy as np\n",
    "import matplotlib.pyplot as plt\n",
    "%matplotlib inline\n",
    "import seaborn as sns\n",
    "\n",
    "print(np.__version__)\n",
    "print(pd.__version__)\n",
    "import sys\n",
    "print(sys.version)\n",
    "print(sns.__version__)"
   ]
  },
  {
   "cell_type": "code",
   "execution_count": null,
   "metadata": {},
   "outputs": [],
   "source": [
    "df = pd.read_csv(\"D:\\\\repos\\\\APDSProject\\\\MLTuning\\\\datacleanup\\\\cvss_final_dataset.csv\")\n",
    "df.head()\n",
    "df.shape\n",
    "#df.info()\n",
    "#df.columns\n",
    "\n"
   ]
  },
  {
   "cell_type": "markdown",
   "metadata": {},
   "source": [
    "# Remove Unwanted Columns"
   ]
  },
  {
   "cell_type": "code",
   "execution_count": null,
   "metadata": {},
   "outputs": [],
   "source": [
    "\n",
    "remove_list = ['timestamp','data_type','data_format', 'data_version','data_meta_ASSIGNER','cvssV3_version','cvssV3_vectorString','cvssV2_version','cvssV2_vectorString']\n",
    "\n",
    "df.drop(remove_list,axis = 1, inplace = True)\n",
    "df.info\n",
    "df.shape\n",
    "\n",
    "\n"
   ]
  },
  {
   "cell_type": "code",
   "execution_count": null,
   "metadata": {},
   "outputs": [],
   "source": [
    "df.columns"
   ]
  },
  {
   "cell_type": "markdown",
   "metadata": {},
   "source": [
    "# Prepare CVSS3 Data Frame\n",
    "\n",
    "\n"
   ]
  },
  {
   "cell_type": "code",
   "execution_count": null,
   "metadata": {},
   "outputs": [],
   "source": [
    "df.columns\n",
    "cvss2_features = ['cvssV2_accessVector', 'cvssV2_accessComplexity',\n",
    "       'cvssV2_authentication', 'cvssV2_confidentialityImpact',\n",
    "       'cvssV2_integrityImpact', 'cvssV2_availabilityImpact',\n",
    "       'cvssV2_baseScore', 'baseMetricV2_severity',\n",
    "       'baseMetricV2_exploitabilityScore', 'baseMetricV2_impactScore',\n",
    "       'baseMetricV2_acInsufInfo', 'baseMetricV2_obtainAllPrivilege',\n",
    "       'baseMetricV2_obtainUserPrivilege', 'baseMetricV2_obtainOtherPrivilege',\n",
    "       'baseMetricV2_userInteractionRequired', ]\n",
    "\n",
    "cvss2_df = df[cvss2_features]\n",
    "\n",
    "cvss2_df.columns\n",
    "cvss2_df.info\n",
    "cvss2_df.shape\n"
   ]
  },
  {
   "cell_type": "markdown",
   "metadata": {},
   "source": [
    "# Extract the numerical and categorical columns from CVSS Version 3 Featue Set"
   ]
  },
  {
   "cell_type": "code",
   "execution_count": null,
   "metadata": {},
   "outputs": [],
   "source": [
    "cvssv2_numerical_col = list(cvss2_df.describe().columns)\n",
    "cvssv2_categorical_col = list(set(cvss2_df.columns).difference(cvssv2_numerical_col))\n",
    "\n",
    "cvssv2_numerical_col\n"
   ]
  },
  {
   "cell_type": "code",
   "execution_count": null,
   "metadata": {},
   "outputs": [],
   "source": [
    "cvssv2_categorical_col"
   ]
  },
  {
   "cell_type": "markdown",
   "metadata": {},
   "source": [
    "# Prepare the features for modelling"
   ]
  },
  {
   "cell_type": "code",
   "execution_count": null,
   "metadata": {
    "tags": []
   },
   "outputs": [],
   "source": [
    "\n",
    "cvssv2_model_df= cvss2_df[cvssv2_categorical_col]\n",
    "cvssv2_model_df.shape\n",
    "\n",
    "#cvssv3_model_df.info"
   ]
  },
  {
   "cell_type": "code",
   "execution_count": null,
   "metadata": {},
   "outputs": [],
   "source": [
    "\n",
    "cvss2_remove_list = ['baseMetricV2_userInteractionRequired','baseMetricV2_obtainAllPrivilege','baseMetricV2_obtainOtherPrivilege','baseMetricV2_obtainUserPrivilege','baseMetricV2_acInsufInfo','baseMetricV2_severity']\n",
    "\n",
    "cvssv2_model_df.drop(cvss2_remove_list,axis = 1, inplace = True)\n",
    "\n"
   ]
  },
  {
   "cell_type": "code",
   "execution_count": null,
   "metadata": {},
   "outputs": [],
   "source": [
    "cvssv2_model_df.shape"
   ]
  },
  {
   "cell_type": "code",
   "execution_count": null,
   "metadata": {},
   "outputs": [],
   "source": [
    "cvssv2_model_df.isnull().any()"
   ]
  },
  {
   "cell_type": "markdown",
   "metadata": {},
   "source": [
    "# Perform One Hot Encoding\n",
    "# https://towardsdatascience.com/encoding-categorical-features-21a2651a065c"
   ]
  },
  {
   "cell_type": "code",
   "execution_count": null,
   "metadata": {},
   "outputs": [],
   "source": [
    "cvssv2_model_encoded_df = pd.get_dummies(cvssv2_model_df)\n"
   ]
  },
  {
   "cell_type": "code",
   "execution_count": null,
   "metadata": {
    "tags": []
   },
   "outputs": [],
   "source": [
    "pd.options.display.float_format = '{:,.2f}'.format\n",
    "pd.set_option('display.max_columns', 500)\n",
    "pd.set_option('display.width', 1000)\n",
    "cvssv2_model_encoded_df.describe()\n",
    "cvssv2_model_encoded_df.shape"
   ]
  },
  {
   "cell_type": "code",
   "execution_count": null,
   "metadata": {},
   "outputs": [],
   "source": [
    "#X = pd.concat([df['cvssV3_baseScore'], df_v3_model], axis=1)\n",
    "X = cvssv2_model_encoded_df\n",
    "X.shape\n",
    "#X.columns"
   ]
  },
  {
   "cell_type": "code",
   "execution_count": null,
   "metadata": {},
   "outputs": [],
   "source": [
    "cvssv2_model_df.columns"
   ]
  },
  {
   "cell_type": "code",
   "execution_count": null,
   "metadata": {},
   "outputs": [],
   "source": [
    "pd.options.display.float_format = '{:,.2f}'.format\n",
    "pd.set_option('display.max_columns', 500)\n",
    "pd.set_option('display.width', 1000)\n",
    "cvssv2_model_df.describe"
   ]
  },
  {
   "source": [
    "# Prepare the features with basic categorization"
   ],
   "cell_type": "markdown",
   "metadata": {}
  },
  {
   "cell_type": "code",
   "execution_count": null,
   "metadata": {},
   "outputs": [],
   "source": [
    "cvssv2_model_df['cvssV2_availabilityImpact'].unique()\n",
    "cvssv2_model_df['cvssV2_authentication'].unique()\n",
    "cvssv2_model_df['cvssV2_integrityImpact'].unique()"
   ]
  },
  {
   "cell_type": "code",
   "execution_count": null,
   "metadata": {
    "tags": []
   },
   "outputs": [],
   "source": [
    "def calculateSeverityScore(row):\n",
    "    if ( (row['cvssV2_availabilityImpact'] == \"COMPLETE\" or row['cvssV2_availabilityImpact'] == \"PARTIAL\")  and \n",
    "         (row['cvssV2_confidentialityImpact'] == \"COMPLETE\" or row['cvssV2_confidentialityImpact'] == \"PARTIAL\")  and \n",
    "         (row['cvssV2_accessComplexity'] == \"HIGH\" or row['cvssV2_accessComplexity'] == \"MEDIUM\")  and \n",
    "         (row['cvssV2_accessVector'] == \"NETWORK\" or row['cvssV2_accessVector'] == \"REMOTE\")  and \n",
    "         (row['cvssV2_integrityImpact'] == \"COMPLETE\") ):\n",
    "        return 'CRITICAL'\n",
    "    elif ( (row['cvssV2_availabilityImpact'] == \"COMPLETE\" or row['cvssV2_availabilityImpact'] == \"PARTIAL\")  and \n",
    "            (row['cvssV2_confidentialityImpact'] == \"COMPLETE\" or row['cvssV2_confidentialityImpact'] == \"PARTIAL\")  and \n",
    "            (row['cvssV2_accessComplexity'] == \"LOW\")  and \n",
    "            (row['cvssV2_accessVector'] == \"NETWORK\" or row['cvssV2_accessVector'] == \"REMOTE\")  and \n",
    "            (row['cvssV2_authentication'] == \"NONE\") and\n",
    "            (row['cvssV2_integrityImpact'] == \"COMPLETE\") or row['cvssV2_integrityImpact'] == \"REMOTE\" ):\n",
    "        return 'CRITICAL'    \n",
    "    elif (  (row['cvssV2_availabilityImpact'] == \"COMPLETE\" or row['cvssV2_availabilityImpact'] == \"PARTIAL\")  and \n",
    "            (row['cvssV2_confidentialityImpact'] == \"COMPLETE\" or row['cvssV2_confidentialityImpact'] == \"PARTIAL\")  and \n",
    "            (row['cvssV2_accessComplexity'] == \"LOW\")  and \n",
    "            (row['cvssV2_authentication'] == \"NETWORK\" or row['cvssV2_authentication'] == \"REMOTE\") ):\n",
    "        return 'CRITICAL'\n",
    "    elif ( (row['cvssV2_availabilityImpact'] == \"COMPLETE\" or row['cvssV2_availabilityImpact'] == \"PARTIAL\")  and \n",
    "            (row['cvssV2_confidentialityImpact'] == \"COMPLETE\" or row['cvssV2_confidentialityImpact'] == \"PARTIAL\")  and \n",
    "            (row['cvssV2_accessComplexity'] == \"LOW\")  and \n",
    "            (row['cvssV2_accessVector'] == \"NETWORK\" or row['cvssV2_accessVector'] == \"REMOTE\")  and \n",
    "            (row['cvssV2_authentication'] == \"NONE\") and\n",
    "            (row['cvssV2_integrityImpact'] == \"NONE\")):\n",
    "        return 'CRITICAL'\n",
    "    elif ( (row['cvssV2_availabilityImpact'] == \"COMPLETE\" or row['cvssV2_availabilityImpact'] == \"PARTIAL\")  and \n",
    "            (row['cvssV2_confidentialityImpact'] == \"NONE\")  and \n",
    "            (row['cvssV2_accessComplexity'] == \"LOW\")  and \n",
    "            (row['cvssV2_accessVector'] == \"NETWORK\" or row['cvssV2_accessVector'] == \"REMOTE\")  and \n",
    "            (row['cvssV2_authentication'] == \"NONE\")):\n",
    "        return 'CRITICAL'\n",
    "    elif ( (row['cvssV2_availabilityImpact'] == \"COMPLETE\" or row['cvssV2_availabilityImpact'] == \"PARTIAL\")  and \n",
    "            (row['cvssV2_confidentialityImpact'] == \"NONE\")  and \n",
    "            (row['cvssV2_accessComplexity'] == \"HIGH\" or row['cvssV2_accessComplexity'] == \"MEDIUM\") and \n",
    "            (row['cvssV2_accessVector'] == \"NETWORK\" or row['cvssV2_accessVector'] == \"REMOTE\") ):\n",
    "        return 'CRITICAL' \n",
    "    elif ( (row['cvssV2_availabilityImpact'] == \"NONE\")  and \n",
    "            (row['cvssV2_confidentialityImpact'] == \"COMPLETE\")):\n",
    "        return 'CRITICAL'  \n",
    "\n",
    "\n",
    "    elif ( (row['cvssV2_availabilityImpact'] == \"COMPLETE\" or row['cvssV2_availabilityImpact'] == \"PARTIAL\")  and \n",
    "            (row['cvssV2_confidentialityImpact'] == \"COMPLETE\" or row['cvssV2_confidentialityImpact'] == \"PARTIAL\")   and \n",
    "            (row['cvssV2_accessComplexity'] == \"HIGH\" or row['cvssV2_accessComplexity'] == \"MEDIUM\")  and \n",
    "            (row['cvssV2_accessVector'] == \"LOCAL\")  and \n",
    "            (row['cvssV2_integrityImpact'] == \"COMPLETE\")):   \n",
    "        return 'HIGH'              \n",
    "    elif ( (row['cvssV2_availabilityImpact'] == \"COMPLETE\" or row['cvssV2_availabilityImpact'] == \"PARTIAL\")  and \n",
    "            (row['cvssV2_confidentialityImpact'] == \"COMPLETE\" or row['cvssV2_confidentialityImpact'] == \"PARTIAL\")   and \n",
    "            (row['cvssV2_accessComplexity'] == \"HIGH\" or row['cvssV2_accessComplexity'] == \"MEDIUM\")  and \n",
    "            (row['cvssV2_integrityImpact'] == \"NONE\" or row['cvssV2_integrityImpact'] == \"PARTIAL\") and \n",
    "            (row['cvssV2_accessVector'] == \"LOCAL\" or row['cvssV2_accessVector'] == \"NETWORK\")):   \n",
    "        return 'HIGH'\n",
    "    elif ( (row['cvssV2_availabilityImpact'] == \"COMPLETE\" or row['cvssV2_availabilityImpact'] == \"PARTIAL\")  and \n",
    "            (row['cvssV2_confidentialityImpact'] == \"COMPLETE\" or row['cvssV2_confidentialityImpact'] == \"PARTIAL\")   and \n",
    "            (row['cvssV2_accessComplexity'] == \"HIGH\" or row['cvssV2_accessComplexity'] == \"MEDIUM\")  and \n",
    "            (row['cvssV2_integrityImpact'] == \"NONE\" or row['cvssV2_integrityImpact'] == \"PARTIAL\") and \n",
    "            (row['cvssV2_accessVector'] == \"REMOTE\")):   \n",
    "        return 'HIGH'        \n",
    "    elif ( (row['cvssV2_availabilityImpact'] == \"COMPLETE\" or row['cvssV2_availabilityImpact'] == \"PARTIAL\")  and \n",
    "            (row['cvssV2_confidentialityImpact'] == \"COMPLETE\" or row['cvssV2_confidentialityImpact'] == \"PARTIAL\")   and \n",
    "            (row['cvssV2_accessComplexity'] == \"LOW\")  and \n",
    "            (row['cvssV2_authentication'] == \"MULTIPLE\" or row['cvssV2_authentication'] == \"SINGLE\")):   \n",
    "        return 'HIGH'        \n",
    "    elif ( (row['cvssV2_availabilityImpact'] == \"COMPLETE\" or row['cvssV2_availabilityImpact'] == \"PARTIAL\")  and \n",
    "            (row['cvssV2_confidentialityImpact'] == \"COMPLETE\" or row['cvssV2_confidentialityImpact'] == \"PARTIAL\")   and \n",
    "            (row['cvssV2_accessComplexity'] == \"LOW\")  and \n",
    "            (row['cvssV2_authentication'] == \"NONE\") and \n",
    "            (row['cvssV2_accessVector'] == \"REMOTE\" or row['cvssV2_accessVector'] == \"NETWORK\") and\n",
    "            (row['cvssV2_integrityImpact'] == \"NONE\")): \n",
    "        return 'HIGH'\n",
    "    elif ( (row['cvssV2_availabilityImpact'] == \"COMPLETE\" or row['cvssV2_availabilityImpact'] == \"PARTIAL\")  and \n",
    "            (row['cvssV2_confidentialityImpact'] == \"NONE\")   and \n",
    "            (row['cvssV2_accessVector'] == \"REMOTE\" or row['cvssV2_accessVector'] == \"LOCAL\")): \n",
    "        return 'HIGH'        \n",
    "    elif ( (row['cvssV2_availabilityImpact'] == \"COMPLETE\" or row['cvssV2_availabilityImpact'] == \"PARTIAL\")  and \n",
    "            (row['cvssV2_confidentialityImpact'] == \"NONE\")   and \n",
    "            (row['cvssV2_accessComplexity'] == \"LOW\")  and \n",
    "            (row['cvssV2_authentication'] == \"SINGLE\") and \n",
    "            (row['cvssV2_accessVector'] == \"REMOTE\")): \n",
    "        return 'HIGH'        \n",
    "    elif ( (row['cvssV2_availabilityImpact'] == \"COMPLETE\" or row['cvssV2_availabilityImpact'] == \"PARTIAL\")  and \n",
    "            (row['cvssV2_confidentialityImpact'] == \"NONE\")   and \n",
    "            (row['cvssV2_accessComplexity'] == \"LOW\" or row['cvssV2_accessComplexity'] == \"MEDIUM\" )  and \n",
    "            (row['cvssV2_authentication'] == \"NONE\") and \n",
    "            (row['cvssV2_accessVector'] == \"REMOTE\")):        \n",
    "        return 'HIGH'\n",
    "    elif ( (row['cvssV2_availabilityImpact'] == \"COMPLETE\" or row['cvssV2_availabilityImpact'] == \"PARTIAL\")  and \n",
    "            (row['cvssV2_confidentialityImpact'] == \"NONE\")   and \n",
    "            (row['cvssV2_accessComplexity'] == \"LOW\" or row['cvssV2_accessComplexity'] == \"MEDIUM\" )  and \n",
    "            (row['cvssV2_authentication'] == \"SINGLE\") and \n",
    "            (row['cvssV2_accessVector'] == \"REMOTE\")):        \n",
    "        return 'HIGH'        \n",
    "    elif ( (row['cvssV2_availabilityImpact'] == \"NONE\")  and \n",
    "            (row['cvssV2_confidentialityImpact'] == \"NONE\" or row['cvssV2_confidentialityImpact'] == \"PARTIAL\")   and \n",
    "            (row['cvssV2_integrityImpact'] == \"COMPLETE\" or row['cvssV2_integrityImpact'] == \"NONE\") and \n",
    "            (row['cvssV2_accessComplexity'] == \"LOW\" or row['cvssV2_accessComplexity'] == \"MEDIUM\" )  and \n",
    "            (row['cvssV2_authentication'] == \"NONE\") and \n",
    "            (row['cvssV2_accessVector'] == \"REMOTE\")):        \n",
    "        return 'HIGH'              \n",
    "    elif ( (row['cvssV2_availabilityImpact'] == \"NONE\")  and \n",
    "            (row['cvssV2_confidentialityImpact'] == \"NONE\" or row['cvssV2_confidentialityImpact'] == \"PARTIAL\")   and \n",
    "            (row['cvssV2_integrityImpact'] == \"PARTIAL\") and \n",
    "            (row['cvssV2_accessComplexity'] == \"LOW\" or row['cvssV2_accessComplexity'] == \"MEDIUM\" )  and \n",
    "            (row['cvssV2_authentication'] == \"NONE\") and \n",
    "            (row['cvssV2_accessVector'] == \"REMOTE\")):        \n",
    "        return 'HIGH'          \n",
    "    elif ( (row['cvssV2_availabilityImpact'] == \"NONE\")  and \n",
    "            (row['cvssV2_confidentialityImpact'] == \"NONE\" or row['cvssV2_confidentialityImpact'] == \"PARTIAL\")   and \n",
    "            (row['cvssV2_integrityImpact'] == \"PARTIAL\") and \n",
    "            (row['cvssV2_accessComplexity'] == \"LOW\")  and \n",
    "            (row['cvssV2_authentication'] == \"SINGLE\")):        \n",
    "        return 'HIGH'        \n",
    "    else:\n",
    "        return 'LOW'\n",
    "\n",
    "#severity = calculateSeverityScore(cvss3_df.iloc[0]['cvssV3_baseScore'])\n",
    "#severity\n",
    "\n",
    "cvssv2_model_df['Severity_Score'] = cvssv2_model_df.apply(lambda row: calculateSeverityScore(row),axis=1)\n"
   ]
  },
  {
   "cell_type": "code",
   "execution_count": null,
   "metadata": {},
   "outputs": [],
   "source": [
    "cvssv2_model_df['Severity_Score'].unique()\n",
    "cvssv2_model_df.Severity_Score.value_counts()\n"
   ]
  },
  {
   "cell_type": "code",
   "execution_count": null,
   "metadata": {},
   "outputs": [],
   "source": [
    "severity_to_num = {'CRITICAL': 1,\n",
    "                    'HIGH': 2,\n",
    "                    'LOW': 3}\n",
    "cvssv2_model_df['Severity_Score_Num'] = cvssv2_model_df['Severity_Score'].map(severity_to_num)"
   ]
  },
  {
   "cell_type": "code",
   "execution_count": null,
   "metadata": {},
   "outputs": [],
   "source": [
    "cvssv2_model_df['Severity_Score_Num'].unique()\n"
   ]
  },
  {
   "cell_type": "code",
   "execution_count": null,
   "metadata": {},
   "outputs": [],
   "source": [
    "cvssv2_model_df.rename(columns = {'Severity_Score':'Severity_Score_Text'}, inplace = True)\n"
   ]
  },
  {
   "cell_type": "code",
   "execution_count": null,
   "metadata": {},
   "outputs": [],
   "source": [
    "cvssv2_model_df.columns"
   ]
  },
  {
   "cell_type": "code",
   "execution_count": null,
   "metadata": {},
   "outputs": [],
   "source": [
    "cvssv2_model_df.rename(columns = {'Severity_Score_Num':'Severity_Score'}, inplace = True)\n",
    "Y = cvssv2_model_df['Severity_Score']\n",
    "Y.head\n"
   ]
  },
  {
   "cell_type": "code",
   "execution_count": null,
   "metadata": {},
   "outputs": [],
   "source": [
    "X.to_csv(\"features_v2.csv\", index=False, encoding='utf8')\n"
   ]
  },
  {
   "cell_type": "code",
   "execution_count": null,
   "metadata": {},
   "outputs": [],
   "source": [
    "Y.to_csv(\"classes_v2.csv\",index=False,encoding='utf8')"
   ]
  },
  {
   "cell_type": "code",
   "execution_count": null,
   "metadata": {
    "tags": []
   },
   "outputs": [],
   "source": [
    "X.head"
   ]
  },
  {
   "cell_type": "code",
   "execution_count": null,
   "metadata": {},
   "outputs": [],
   "source": [
    "Y.head"
   ]
  },
  {
   "cell_type": "markdown",
   "metadata": {},
   "source": [
    "# Split the data set into 70% training and 30% test "
   ]
  },
  {
   "cell_type": "code",
   "execution_count": null,
   "metadata": {},
   "outputs": [],
   "source": [
    "from sklearn.model_selection import train_test_split\n",
    "from sklearn.tree import DecisionTreeClassifier\n",
    "\n",
    "X_train, X_test, y_train, y_test = train_test_split(X, Y, test_size=0.1, random_state=42) # 70% training and 30% test\n",
    "\n",
    "# Create Decision Tree classifer object\n",
    "clf = DecisionTreeClassifier()\n",
    "\n",
    "# Train Decision Tree Classifer\n",
    "clf = clf.fit(X_train,y_train)\n",
    "\n",
    "#Predict the response for test dataset\n",
    "y_pred = clf.predict(X_test)"
   ]
  },
  {
   "cell_type": "code",
   "execution_count": null,
   "metadata": {},
   "outputs": [],
   "source": [
    "clf.fit(X_train, y_train)\n",
    "\n"
   ]
  },
  {
   "cell_type": "code",
   "execution_count": null,
   "metadata": {},
   "outputs": [],
   "source": [
    "from sklearn import preprocessing\n",
    "from sklearn.model_selection import cross_val_score, cross_val_predict\n",
    "from sklearn.metrics import accuracy_score, classification_report\n",
    "from sklearn.metrics import confusion_matrix, roc_auc_score\n",
    "def print_score(clf, X_train, X_test, y_train, y_test, train=True):\n",
    "    '''\n",
    "    v0.1 Follow the scikit learn library format in terms of input\n",
    "    print the accuracy score, classification report and confusion matrix of classifier\n",
    "    '''\n",
    "    lb = preprocessing.LabelBinarizer()\n",
    "    lb.fit(y_train)\n",
    "    if train:\n",
    "        '''\n",
    "        training performance\n",
    "        '''\n",
    "        res = clf.predict(X_train)\n",
    "        print(\"Train Result:\\n\")\n",
    "        print(\"accuracy score: {0:.4f}\\n\".format(accuracy_score(y_train, \n",
    "                                                                res)))\n",
    "        print(\"Classification Report: \\n {}\\n\".format(classification_report(y_train, \n",
    "                                                                            res)))\n",
    "        print(\"Confusion Matrix: \\n {}\\n\".format(confusion_matrix(y_train, \n",
    "                                                                  res)))\n",
    "        print(\"ROC AUC: {0:.4f}\\n\".format(roc_auc_score(lb.transform(y_train), \n",
    "                                                      lb.transform(res))))\n",
    "\n",
    "        #res = cross_val_score(clf, X_train, y_train, cv=10, scoring='accuracy')\n",
    "        #print(\"Average Accuracy: \\t {0:.4f}\".format(np.mean(res)))\n",
    "        #print(\"Accuracy SD: \\t\\t {0:.4f}\".format(np.std(res)))\n",
    "        \n",
    "    elif train==False:\n",
    "        '''\n",
    "        test performance\n",
    "        '''\n",
    "        res_test = clf.predict(X_test)\n",
    "        print(\"Test Result:\\n\")        \n",
    "        print(\"accuracy score: {0:.4f}\\n\".format(accuracy_score(y_test, \n",
    "                                                                res_test)))\n",
    "        print(\"Classification Report: \\n {}\\n\".format(classification_report(y_test, \n",
    "                                                                            res_test)))\n",
    "        print(\"Confusion Matrix: \\n {}\\n\".format(confusion_matrix(y_test, \n",
    "                                                                  res_test)))   \n",
    "        print(\"ROC AUC: {0:.4f}\\n\".format(roc_auc_score(lb.transform(y_test), \n",
    "                                                      lb.transform(res_test))))"
   ]
  },
  {
   "cell_type": "code",
   "execution_count": 100,
   "metadata": {
    "tags": []
   },
   "outputs": [
    {
     "output_type": "stream",
     "name": "stdout",
     "text": "Test Result:\n\naccuracy score: 1.0000\n\nClassification Report: \n               precision    recall  f1-score   support\n\n           1       1.00      1.00      1.00      1345\n           2       1.00      1.00      1.00      1450\n           3       1.00      1.00      1.00      3917\n\n    accuracy                           1.00      6712\n   macro avg       1.00      1.00      1.00      6712\nweighted avg       1.00      1.00      1.00      6712\n\n\nConfusion Matrix: \n [[1345    0    0]\n [   0 1450    0]\n [   0    0 3917]]\n\nROC AUC: 1.0000\n\n"
    }
   ],
   "source": [
    "#print_score(clf, X_train, X_test, y_train, y_test, train=True)\n",
    "print_score(clf, X_train, X_test, y_train, y_test, train=False)"
   ]
  },
  {
   "cell_type": "code",
   "execution_count": null,
   "metadata": {
    "tags": []
   },
   "outputs": [],
   "source": [
    "# The score method returns the accuracy of the model\n",
    "score = clf.score(X_test, y_test)\n",
    "print(score)"
   ]
  },
  {
   "cell_type": "code",
   "execution_count": null,
   "metadata": {
    "tags": []
   },
   "outputs": [],
   "source": [
    "max_depth_range = list(range(1, 8))# List to store the average RMSE for each value of max_depth:\n",
    "accuracy = []\n",
    "for depth in max_depth_range:\n",
    "    \n",
    "    clf = DecisionTreeClassifier(max_depth = depth, \n",
    "                             random_state = 0)\n",
    "    clf.fit(X_train, y_train)\n",
    "    score = clf.score(X_test, y_test)\n",
    "    accuracy.append(score)\n",
    "    #print(score)\n",
    "accuracy"
   ]
  },
  {
   "cell_type": "code",
   "execution_count": null,
   "metadata": {},
   "outputs": [],
   "source": [
    "tree.export_graphviz(clf.tree_, out_file='tree.dot', feature_names=list(X.columns))"
   ]
  },
  {
   "cell_type": "code",
   "execution_count": null,
   "metadata": {},
   "outputs": [],
   "source": [
    "from sklearn.tree.export import export_text\n",
    "tree_rules = export_text(clf, feature_names = list(X.columns))\n",
    "tree_rules"
   ]
  },
  {
   "cell_type": "code",
   "execution_count": null,
   "metadata": {
    "tags": []
   },
   "outputs": [],
   "source": [
    "from sklearn import tree\n",
    "plt.figure(figsize=(40,20))  # customize according to the size of your tree\n",
    "_ = tree.plot_tree(clf, feature_names = X.columns)\n",
    "plt.show()"
   ]
  },
  {
   "cell_type": "code",
   "execution_count": 92,
   "metadata": {},
   "outputs": [
    {
     "output_type": "execute_result",
     "data": {
      "text/plain": "55"
     },
     "metadata": {},
     "execution_count": 92
    }
   ],
   "source": [
    "n_nodes = clf.tree_.node_count\n",
    "children_left = clf.tree_.children_left\n",
    "children_right = clf.tree_.children_right\n",
    "feature = clf.tree_.feature\n",
    "threshold = clf.tree_.threshold\n",
    "n_nodes\n",
    "\n"
   ]
  },
  {
   "cell_type": "code",
   "execution_count": 93,
   "metadata": {},
   "outputs": [
    {
     "output_type": "execute_result",
     "data": {
      "text/plain": "array([ 1,  2,  3,  4,  5,  6, -1, -1,  9, -1, -1, 12, -1, -1, 15, 16, 17,\n       -1, 19, -1, -1, 22, 23, -1, -1, -1, 27, 28, -1, -1, 31, 32, -1, -1,\n       -1, 36, 37, -1, -1, 40, -1, 42, 43, -1, -1, -1, 47, 48, -1, 50, -1,\n       52, -1, -1, -1], dtype=int64)"
     },
     "metadata": {},
     "execution_count": 93
    }
   ],
   "source": [
    "children_left\n"
   ]
  },
  {
   "cell_type": "code",
   "execution_count": null,
   "metadata": {},
   "outputs": [],
   "source": [
    "children_right\n"
   ]
  },
  {
   "cell_type": "code",
   "execution_count": null,
   "metadata": {},
   "outputs": [],
   "source": [
    "feature\n"
   ]
  },
  {
   "cell_type": "code",
   "execution_count": null,
   "metadata": {},
   "outputs": [],
   "source": [
    "threshold"
   ]
  },
  {
   "cell_type": "code",
   "execution_count": 94,
   "metadata": {
    "tags": []
   },
   "outputs": [
    {
     "output_type": "stream",
     "name": "stdout",
     "text": "The binary tree structure has 55 nodes and has the following tree structure:\nnode=0 test node: go to node 1 if X[:, 10] &lt;= 0.5 else to node 46.\n\tnode=1 test node: go to node 2 if X[:, 5] &lt;= 0.5 else to node 35.\n\t\tnode=2 test node: go to node 3 if X[:, 8] &lt;= 0.5 else to node 14.\n\t\t\tnode=3 test node: go to node 4 if X[:, 4] &lt;= 0.5 else to node 11.\n\t\t\t\tnode=4 test node: go to node 5 if X[:, 16] &lt;= 0.5 else to node 8.\n\t\t\t\t\tnode=5 test node: go to node 6 if X[:, 6] &lt;= 0.5 else to node 7.\n\t\t\t\t\t\tnode=6 leaf node.\n\t\t\t\t\t\tnode=7 leaf node.\n\t\t\t\t\tnode=8 test node: go to node 9 if X[:, 13] &lt;= 0.5 else to node 10.\n\t\t\t\t\t\tnode=9 leaf node.\n\t\t\t\t\t\tnode=10 leaf node.\n\t\t\t\tnode=11 test node: go to node 12 if X[:, 6] &lt;= 0.5 else to node 13.\n\t\t\t\t\tnode=12 leaf node.\n\t\t\t\t\tnode=13 leaf node.\n\t\t\tnode=14 test node: go to node 15 if X[:, 14] &lt;= 0.5 else to node 26.\n\t\t\t\tnode=15 test node: go to node 16 if X[:, 2] &lt;= 0.5 else to node 21.\n\t\t\t\t\tnode=16 test node: go to node 17 if X[:, 12] &lt;= 0.5 else to node 18.\n\t\t\t\t\t\tnode=17 leaf node.\n\t\t\t\t\t\tnode=18 test node: go to node 19 if X[:, 16] &lt;= 0.5 else to node 20.\n\t\t\t\t\t\t\tnode=19 leaf node.\n\t\t\t\t\t\t\tnode=20 leaf node.\n\t\t\t\t\tnode=21 test node: go to node 22 if X[:, 4] &lt;= 0.5 else to node 25.\n\t\t\t\t\t\tnode=22 test node: go to node 23 if X[:, 16] &lt;= 0.5 else to node 24.\n\t\t\t\t\t\t\tnode=23 leaf node.\n\t\t\t\t\t\t\tnode=24 leaf node.\n\t\t\t\t\t\tnode=25 leaf node.\n\t\t\t\tnode=26 test node: go to node 27 if X[:, 3] &lt;= 0.5 else to node 30.\n\t\t\t\t\tnode=27 test node: go to node 28 if X[:, 16] &lt;= 0.5 else to node 29.\n\t\t\t\t\t\tnode=28 leaf node.\n\t\t\t\t\t\tnode=29 leaf node.\n\t\t\t\t\tnode=30 test node: go to node 31 if X[:, 16] &lt;= 0.5 else to node 34.\n\t\t\t\t\t\tnode=31 test node: go to node 32 if X[:, 0] &lt;= 0.5 else to node 33.\n\t\t\t\t\t\t\tnode=32 leaf node.\n\t\t\t\t\t\t\tnode=33 leaf node.\n\t\t\t\t\t\tnode=34 leaf node.\n\t\tnode=35 test node: go to node 36 if X[:, 16] &lt;= 0.5 else to node 39.\n\t\t\tnode=36 test node: go to node 37 if X[:, 6] &lt;= 0.5 else to node 38.\n\t\t\t\tnode=37 leaf node.\n\t\t\t\tnode=38 leaf node.\n\t\t\tnode=39 test node: go to node 40 if X[:, 13] &lt;= 0.5 else to node 41.\n\t\t\t\tnode=40 leaf node.\n\t\t\t\tnode=41 test node: go to node 42 if X[:, 2] &lt;= 0.5 else to node 45.\n\t\t\t\t\tnode=42 test node: go to node 43 if X[:, 8] &lt;= 0.5 else to node 44.\n\t\t\t\t\t\tnode=43 leaf node.\n\t\t\t\t\t\tnode=44 leaf node.\n\t\t\t\t\tnode=45 leaf node.\n\tnode=46 test node: go to node 47 if X[:, 3] &lt;= 0.5 else to node 54.\n\t\tnode=47 test node: go to node 48 if X[:, 14] &lt;= 0.5 else to node 49.\n\t\t\tnode=48 leaf node.\n\t\t\tnode=49 test node: go to node 50 if X[:, 16] &lt;= 0.5 else to node 51.\n\t\t\t\tnode=50 leaf node.\n\t\t\t\tnode=51 test node: go to node 52 if X[:, 2] &lt;= 0.5 else to node 53.\n\t\t\t\t\tnode=52 leaf node.\n\t\t\t\t\tnode=53 leaf node.\n\t\tnode=54 leaf node.\n\nRules used to predict sample 0: \n"
    },
    {
     "output_type": "error",
     "ename": "KeyError",
     "evalue": "(0, 10)",
     "traceback": [
      "\u001b[1;31m---------------------------------------------------------------------------\u001b[0m",
      "\u001b[1;31mKeyError\u001b[0m                                  Traceback (most recent call last)",
      "\u001b[1;32m~\\anaconda3\\lib\\site-packages\\pandas\\core\\indexes\\base.py\u001b[0m in \u001b[0;36mget_loc\u001b[1;34m(self, key, method, tolerance)\u001b[0m\n\u001b[0;32m   2645\u001b[0m             \u001b[1;32mtry\u001b[0m\u001b[1;33m:\u001b[0m\u001b[1;33m\u001b[0m\u001b[1;33m\u001b[0m\u001b[0m\n\u001b[1;32m-&gt; 2646\u001b[1;33m                 \u001b[1;32mreturn\u001b[0m \u001b[0mself\u001b[0m\u001b[1;33m.\u001b[0m\u001b[0m_engine\u001b[0m\u001b[1;33m.\u001b[0m\u001b[0mget_loc\u001b[0m\u001b[1;33m(\u001b[0m\u001b[0mkey\u001b[0m\u001b[1;33m)\u001b[0m\u001b[1;33m\u001b[0m\u001b[1;33m\u001b[0m\u001b[0m\n\u001b[0m\u001b[0;32m   2647\u001b[0m             \u001b[1;32mexcept\u001b[0m \u001b[0mKeyError\u001b[0m\u001b[1;33m:\u001b[0m\u001b[1;33m\u001b[0m\u001b[1;33m\u001b[0m\u001b[0m\n",
      "\u001b[1;32mpandas\\_libs\\index.pyx\u001b[0m in \u001b[0;36mpandas._libs.index.IndexEngine.get_loc\u001b[1;34m()\u001b[0m\n",
      "\u001b[1;32mpandas\\_libs\\index.pyx\u001b[0m in \u001b[0;36mpandas._libs.index.IndexEngine.get_loc\u001b[1;34m()\u001b[0m\n",
      "\u001b[1;32mpandas\\_libs\\hashtable_class_helper.pxi\u001b[0m in \u001b[0;36mpandas._libs.hashtable.PyObjectHashTable.get_item\u001b[1;34m()\u001b[0m\n",
      "\u001b[1;32mpandas\\_libs\\hashtable_class_helper.pxi\u001b[0m in \u001b[0;36mpandas._libs.hashtable.PyObjectHashTable.get_item\u001b[1;34m()\u001b[0m\n",
      "\u001b[1;31mKeyError\u001b[0m: (0, 10)",
      "\nDuring handling of the above exception, another exception occurred:\n",
      "\u001b[1;31mKeyError\u001b[0m                                  Traceback (most recent call last)",
      "\u001b[1;32m&lt;ipython-input-94-dbd453808213&gt;\u001b[0m in \u001b[0;36m&lt;module&gt;\u001b[1;34m\u001b[0m\n\u001b[0;32m     56\u001b[0m         \u001b[1;32mcontinue\u001b[0m\u001b[1;33m\u001b[0m\u001b[1;33m\u001b[0m\u001b[0m\n\u001b[0;32m     57\u001b[0m \u001b[1;33m\u001b[0m\u001b[0m\n\u001b[1;32m---&gt; 58\u001b[1;33m     \u001b[1;32mif\u001b[0m \u001b[1;33m(\u001b[0m\u001b[0mX_test\u001b[0m\u001b[1;33m[\u001b[0m\u001b[0msample_id\u001b[0m\u001b[1;33m,\u001b[0m \u001b[0mfeature\u001b[0m\u001b[1;33m[\u001b[0m\u001b[0mnode_id\u001b[0m\u001b[1;33m]\u001b[0m\u001b[1;33m]\u001b[0m \u001b[1;33m&lt;=\u001b[0m \u001b[0mthreshold\u001b[0m\u001b[1;33m[\u001b[0m\u001b[0mnode_id\u001b[0m\u001b[1;33m]\u001b[0m\u001b[1;33m)\u001b[0m\u001b[1;33m:\u001b[0m\u001b[1;33m\u001b[0m\u001b[1;33m\u001b[0m\u001b[0m\n\u001b[0m\u001b[0;32m     59\u001b[0m         \u001b[0mthreshold_sign\u001b[0m \u001b[1;33m=\u001b[0m \u001b[1;34m&quot;&lt;=&quot;\u001b[0m\u001b[1;33m\u001b[0m\u001b[1;33m\u001b[0m\u001b[0m\n\u001b[0;32m     60\u001b[0m     \u001b[1;32melse\u001b[0m\u001b[1;33m:\u001b[0m\u001b[1;33m\u001b[0m\u001b[1;33m\u001b[0m\u001b[0m\n",
      "\u001b[1;32m~\\anaconda3\\lib\\site-packages\\pandas\\core\\frame.py\u001b[0m in \u001b[0;36m__getitem__\u001b[1;34m(self, key)\u001b[0m\n\u001b[0;32m   2798\u001b[0m             \u001b[1;32mif\u001b[0m \u001b[0mself\u001b[0m\u001b[1;33m.\u001b[0m\u001b[0mcolumns\u001b[0m\u001b[1;33m.\u001b[0m\u001b[0mnlevels\u001b[0m \u001b[1;33m&gt;\u001b[0m \u001b[1;36m1\u001b[0m\u001b[1;33m:\u001b[0m\u001b[1;33m\u001b[0m\u001b[1;33m\u001b[0m\u001b[0m\n\u001b[0;32m   2799\u001b[0m                 \u001b[1;32mreturn\u001b[0m \u001b[0mself\u001b[0m\u001b[1;33m.\u001b[0m\u001b[0m_getitem_multilevel\u001b[0m\u001b[1;33m(\u001b[0m\u001b[0mkey\u001b[0m\u001b[1;33m)\u001b[0m\u001b[1;33m\u001b[0m\u001b[1;33m\u001b[0m\u001b[0m\n\u001b[1;32m-&gt; 2800\u001b[1;33m             \u001b[0mindexer\u001b[0m \u001b[1;33m=\u001b[0m \u001b[0mself\u001b[0m\u001b[1;33m.\u001b[0m\u001b[0mcolumns\u001b[0m\u001b[1;33m.\u001b[0m\u001b[0mget_loc\u001b[0m\u001b[1;33m(\u001b[0m\u001b[0mkey\u001b[0m\u001b[1;33m)\u001b[0m\u001b[1;33m\u001b[0m\u001b[1;33m\u001b[0m\u001b[0m\n\u001b[0m\u001b[0;32m   2801\u001b[0m             \u001b[1;32mif\u001b[0m \u001b[0mis_integer\u001b[0m\u001b[1;33m(\u001b[0m\u001b[0mindexer\u001b[0m\u001b[1;33m)\u001b[0m\u001b[1;33m:\u001b[0m\u001b[1;33m\u001b[0m\u001b[1;33m\u001b[0m\u001b[0m\n\u001b[0;32m   2802\u001b[0m                 \u001b[0mindexer\u001b[0m \u001b[1;33m=\u001b[0m \u001b[1;33m[\u001b[0m\u001b[0mindexer\u001b[0m\u001b[1;33m]\u001b[0m\u001b[1;33m\u001b[0m\u001b[1;33m\u001b[0m\u001b[0m\n",
      "\u001b[1;32m~\\anaconda3\\lib\\site-packages\\pandas\\core\\indexes\\base.py\u001b[0m in \u001b[0;36mget_loc\u001b[1;34m(self, key, method, tolerance)\u001b[0m\n\u001b[0;32m   2646\u001b[0m                 \u001b[1;32mreturn\u001b[0m \u001b[0mself\u001b[0m\u001b[1;33m.\u001b[0m\u001b[0m_engine\u001b[0m\u001b[1;33m.\u001b[0m\u001b[0mget_loc\u001b[0m\u001b[1;33m(\u001b[0m\u001b[0mkey\u001b[0m\u001b[1;33m)\u001b[0m\u001b[1;33m\u001b[0m\u001b[1;33m\u001b[0m\u001b[0m\n\u001b[0;32m   2647\u001b[0m             \u001b[1;32mexcept\u001b[0m \u001b[0mKeyError\u001b[0m\u001b[1;33m:\u001b[0m\u001b[1;33m\u001b[0m\u001b[1;33m\u001b[0m\u001b[0m\n\u001b[1;32m-&gt; 2648\u001b[1;33m                 \u001b[1;32mreturn\u001b[0m \u001b[0mself\u001b[0m\u001b[1;33m.\u001b[0m\u001b[0m_engine\u001b[0m\u001b[1;33m.\u001b[0m\u001b[0mget_loc\u001b[0m\u001b[1;33m(\u001b[0m\u001b[0mself\u001b[0m\u001b[1;33m.\u001b[0m\u001b[0m_maybe_cast_indexer\u001b[0m\u001b[1;33m(\u001b[0m\u001b[0mkey\u001b[0m\u001b[1;33m)\u001b[0m\u001b[1;33m)\u001b[0m\u001b[1;33m\u001b[0m\u001b[1;33m\u001b[0m\u001b[0m\n\u001b[0m\u001b[0;32m   2649\u001b[0m         \u001b[0mindexer\u001b[0m \u001b[1;33m=\u001b[0m \u001b[0mself\u001b[0m\u001b[1;33m.\u001b[0m\u001b[0mget_indexer\u001b[0m\u001b[1;33m(\u001b[0m\u001b[1;33m[\u001b[0m\u001b[0mkey\u001b[0m\u001b[1;33m]\u001b[0m\u001b[1;33m,\u001b[0m \u001b[0mmethod\u001b[0m\u001b[1;33m=\u001b[0m\u001b[0mmethod\u001b[0m\u001b[1;33m,\u001b[0m \u001b[0mtolerance\u001b[0m\u001b[1;33m=\u001b[0m\u001b[0mtolerance\u001b[0m\u001b[1;33m)\u001b[0m\u001b[1;33m\u001b[0m\u001b[1;33m\u001b[0m\u001b[0m\n\u001b[0;32m   2650\u001b[0m         \u001b[1;32mif\u001b[0m \u001b[0mindexer\u001b[0m\u001b[1;33m.\u001b[0m\u001b[0mndim\u001b[0m \u001b[1;33m&gt;\u001b[0m \u001b[1;36m1\u001b[0m \u001b[1;32mor\u001b[0m \u001b[0mindexer\u001b[0m\u001b[1;33m.\u001b[0m\u001b[0msize\u001b[0m \u001b[1;33m&gt;\u001b[0m \u001b[1;36m1\u001b[0m\u001b[1;33m:\u001b[0m\u001b[1;33m\u001b[0m\u001b[1;33m\u001b[0m\u001b[0m\n",
      "\u001b[1;32mpandas\\_libs\\index.pyx\u001b[0m in \u001b[0;36mpandas._libs.index.IndexEngine.get_loc\u001b[1;34m()\u001b[0m\n",
      "\u001b[1;32mpandas\\_libs\\index.pyx\u001b[0m in \u001b[0;36mpandas._libs.index.IndexEngine.get_loc\u001b[1;34m()\u001b[0m\n",
      "\u001b[1;32mpandas\\_libs\\hashtable_class_helper.pxi\u001b[0m in \u001b[0;36mpandas._libs.hashtable.PyObjectHashTable.get_item\u001b[1;34m()\u001b[0m\n",
      "\u001b[1;32mpandas\\_libs\\hashtable_class_helper.pxi\u001b[0m in \u001b[0;36mpandas._libs.hashtable.PyObjectHashTable.get_item\u001b[1;34m()\u001b[0m\n",
      "\u001b[1;31mKeyError\u001b[0m: (0, 10)"
     ]
    }
   ],
   "source": [
    "# The tree structure can be traversed to compute various properties such\n",
    "# as the depth of each node and whether or not it is a leaf.\n",
    "node_depth = np.zeros(shape=n_nodes, dtype=np.int64)\n",
    "is_leaves = np.zeros(shape=n_nodes, dtype=bool)\n",
    "stack = [(0, -1)]  # seed is the root node id and its parent depth\n",
    "while len(stack) > 0:\n",
    "    node_id, parent_depth = stack.pop()\n",
    "    node_depth[node_id] = parent_depth + 1\n",
    "\n",
    "    # If we have a test node\n",
    "    if (children_left[node_id] != children_right[node_id]):\n",
    "        stack.append((children_left[node_id], parent_depth + 1))\n",
    "        stack.append((children_right[node_id], parent_depth + 1))\n",
    "    else:\n",
    "        is_leaves[node_id] = True\n",
    "\n",
    "print(\"The binary tree structure has %s nodes and has \"\n",
    "      \"the following tree structure:\"\n",
    "      % n_nodes)\n",
    "for i in range(n_nodes):\n",
    "    if is_leaves[i]:\n",
    "        print(\"%snode=%s leaf node.\" % (node_depth[i] * \"\\t\", i))\n",
    "    else:\n",
    "        print(\"%snode=%s test node: go to node %s if X[:, %s] <= %s else to \"\n",
    "              \"node %s.\"\n",
    "              % (node_depth[i] * \"\\t\",\n",
    "                 i,\n",
    "                 children_left[i],\n",
    "                 feature[i],\n",
    "                 threshold[i],\n",
    "                 children_right[i],\n",
    "                 ))\n",
    "print()\n",
    "\n",
    "# First let's retrieve the decision path of each sample. The decision_path\n",
    "# method allows to retrieve the node indicator functions. A non zero element of\n",
    "# indicator matrix at the position (i, j) indicates that the sample i goes\n",
    "# through the node j.\n",
    "\n",
    "node_indicator = clf.decision_path(X_test)\n",
    "\n",
    "# Similarly, we can also have the leaves ids reached by each sample.\n",
    "\n",
    "leave_id = clf.apply(X_test)\n",
    "\n",
    "# Now, it's possible to get the tests that were used to predict a sample or\n",
    "# a group of samples. First, let's make it for the sample.\n",
    "\n",
    "sample_id = 0\n",
    "node_index = node_indicator.indices[node_indicator.indptr[sample_id]:\n",
    "                                    node_indicator.indptr[sample_id + 1]]\n",
    "\n",
    "print('Rules used to predict sample %s: ' % sample_id)\n",
    "for node_id in node_index:\n",
    "    if leave_id[sample_id] == node_id:\n",
    "        continue\n",
    "\n",
    "    if (X_test[sample_id, feature[node_id]] <= threshold[node_id]):\n",
    "        threshold_sign = \"<=\"\n",
    "    else:\n",
    "        threshold_sign = \">\"\n",
    "\n",
    "    print(\"decision id node %s : (X_test[%s, %s] (= %s) %s %s)\"\n",
    "          % (node_id,\n",
    "             sample_id,\n",
    "             feature[node_id],\n",
    "             X_test[sample_id, feature[node_id]],\n",
    "             threshold_sign,\n",
    "             threshold[node_id]))\n",
    "\n",
    "# For a group of samples, we have the following common node.\n",
    "sample_ids = [0, 1]\n",
    "common_nodes = (node_indicator.toarray()[sample_ids].sum(axis=0) ==\n",
    "                len(sample_ids))\n",
    "\n",
    "common_node_id = np.arange(n_nodes)[common_nodes]\n",
    "\n",
    "print(\"\\nThe following samples %s share the node %s in the tree\"\n",
    "      % (sample_ids, common_node_id))\n",
    "print(\"It is %s %% of all nodes.\" % (100 * len(common_node_id) / n_nodes,))"
   ]
  },
  {
   "cell_type": "code",
   "execution_count": 96,
   "metadata": {},
   "outputs": [],
   "source": [
    "#Y['CVE_ID'] = df['data_meta_ID']\n",
    "#Y.index = df['data_meta_ID']\n",
    "classes = pd.DataFrame(Y)\n",
    "#Y['CVE_ID'] = df['data_meta_ID']\n",
    "#Y.size\n",
    "classes['CVE_ID'] = df['data_meta_ID']\n",
    "classes.head\n",
    "classes.to_csv(\"classes_v2.csv\",index=False,encoding='utf8')\n"
   ]
  },
  {
   "cell_type": "code",
   "execution_count": 97,
   "metadata": {},
   "outputs": [
    {
     "output_type": "execute_result",
     "data": {
      "text/plain": "67113"
     },
     "metadata": {},
     "execution_count": 97
    }
   ],
   "source": [
    "ynew = clf.predict(X)\n",
    "ynew.size"
   ]
  },
  {
   "cell_type": "code",
   "execution_count": 98,
   "metadata": {},
   "outputs": [],
   "source": [
    "classes_new = pd.DataFrame(ynew)\n",
    "#Y['CVE_ID'] = df['data_meta_ID']\n",
    "#Y.size\n",
    "classes_new['CVE_ID'] = df['data_meta_ID']\n",
    "classes_new.head\n",
    "classes_new.to_csv(\"classes_v2_new.csv\",index=False,encoding='utf8')"
   ]
  },
  {
   "cell_type": "code",
   "execution_count": null,
   "metadata": {},
   "outputs": [],
   "source": []
  }
 ]
}