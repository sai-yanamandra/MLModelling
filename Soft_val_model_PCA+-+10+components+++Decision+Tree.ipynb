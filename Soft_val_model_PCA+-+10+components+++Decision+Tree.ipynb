{
 "cells": [
  {
   "cell_type": "code",
   "execution_count": 1,
   "metadata": {
    "colab": {
     "base_uri": "https://localhost:8080/",
     "height": 35
    },
    "colab_type": "code",
    "id": "MyBxrm_EuXKc",
    "outputId": "718402ab-c7cf-4f36-9e8b-fafada3623a0"
   },
   "outputs": [
    {
     "name": "stdout",
     "output_type": "stream",
     "text": [
      "C:\\Training\\ML Training\\Software Vulnerability Case Study\n"
     ]
    }
   ],
   "source": [
    "# Creating a change directory \n",
    "%cd C:\\\\Training\\\\ML Training\\\\Software Vulnerability Case Study"
   ]
  },
  {
   "cell_type": "markdown",
   "metadata": {
    "colab_type": "text",
    "id": "3rggfBJvuaFF"
   },
   "source": []
  },
  {
   "cell_type": "code",
   "execution_count": 2,
   "metadata": {
    "colab": {
     "base_uri": "https://localhost:8080/",
     "height": 222
    },
    "colab_type": "code",
    "collapsed": true,
    "id": "2lKLBAPwuXYl",
    "outputId": "dc32c861-3e7e-4be9-a2f8-4b10fca6162d"
   },
   "outputs": [],
   "source": [
    "# Import Pandas\n",
    "import pandas as pd\n",
    "# Read CSVE V2.0 and V3.0 CSV files\n",
    "V2 = pd.read_csv(r\"CSVE_Dataset_V2.0.csv\")\n",
    "V3 = pd.read_csv(r'CSVE_Dataset_V3.0.csv')\n",
    "# Convert CSV files into Dataframes\n",
    "V2_data = pd.DataFrame(V2)\n",
    "V3_data=pd.DataFrame(V3)\n",
    "\n"
   ]
  },
  {
   "cell_type": "code",
   "execution_count": 3,
   "metadata": {
    "colab": {
     "base_uri": "https://localhost:8080/",
     "height": 222
    },
    "colab_type": "code",
    "collapsed": true,
    "id": "3Zeo4cO3vzh8",
    "outputId": "ceb59123-d7e6-4d32-e6a7-d0b6e9744d7e"
   },
   "outputs": [],
   "source": [
    "##For V2\n",
    "\n",
    "feature2 = ['cvssV2_baseScore','cvssV2_accessVector','cvssV2_accessComplexity','cvssV2_availabilityImpact','cvssV2_authentication','cvssV2_confidentialityImpact','cvssV2_integrityImpact' ]\n",
    "\n",
    "# separating features\n",
    "x2 = V2_data.loc[:,feature2]\n",
    "\n",
    "# separating target\n",
    "y2 = V2_data.loc[:,'baseMetricV2_severity']\n",
    "# One hot encoding \n",
    "encoded_X2=pd.get_dummies(x2)\n",
    "# One hot encoding of Year column after converting to a string\n",
    "V2_year=pd.get_dummies(V2_data['year'].astype(str))\n",
    "# Concatanate both Year and Feature one hot encoded dataframes\n",
    "encoded_X2_final=pd.concat([V2_year, encoded_X2], axis=1)\n"
   ]
  },
  {
   "cell_type": "code",
   "execution_count": 4,
   "metadata": {
    "colab": {
     "base_uri": "https://localhost:8080/",
     "height": 222
    },
    "colab_type": "code",
    "collapsed": true,
    "id": "keTQQZCHvzlc",
    "outputId": "6730f01d-0ed3-4ac5-d8a1-bfb0be6289fe"
   },
   "outputs": [],
   "source": [
    "##For V3\n",
    "\n",
    "feature3 = ['cvssV3_baseScore','cvssV3_availabilityImpact','cvssV3_confidentialityImpact','cvssV3_integrityImpact']\n",
    "\n",
    "# separating features\n",
    "x3= V3_data.loc[:,feature3]\n",
    "\n",
    "# separating target\n",
    "y3 = V3_data.loc[:,'cvssV3_baseSeverity']\n",
    "# One hot encoding \n",
    "encoded_X3=pd.get_dummies(x3)\n",
    "# One hot encoding of Year column after converting to a string\n",
    "V3_year=pd.get_dummies(V3_data['year'].astype(str))\n",
    "# Concatanate both Year and Feature one hot encoded dataframes\n",
    "encoded_X3_final=pd.concat([V3_year, encoded_X3], axis=1)\n",
    "\n"
   ]
  },
  {
   "cell_type": "code",
   "execution_count": 5,
   "metadata": {
    "colab": {
     "base_uri": "https://localhost:8080/",
     "height": 202
    },
    "colab_type": "code",
    "id": "7mWsStP6uXr1",
    "outputId": "e50c695d-9089-4355-a69b-976337d32fc0"
   },
   "outputs": [
    {
     "data": {
      "text/html": [
       "<div>\n",
       "<style scoped>\n",
       "    .dataframe tbody tr th:only-of-type {\n",
       "        vertical-align: middle;\n",
       "    }\n",
       "\n",
       "    .dataframe tbody tr th {\n",
       "        vertical-align: top;\n",
       "    }\n",
       "\n",
       "    .dataframe thead th {\n",
       "        text-align: right;\n",
       "    }\n",
       "</style>\n",
       "<table border=\"1\" class=\"dataframe\">\n",
       "  <thead>\n",
       "    <tr style=\"text-align: right;\">\n",
       "      <th></th>\n",
       "      <th>pc1</th>\n",
       "      <th>pc2</th>\n",
       "      <th>pc3</th>\n",
       "      <th>pc4</th>\n",
       "      <th>pc5</th>\n",
       "      <th>pca6</th>\n",
       "      <th>pca7</th>\n",
       "      <th>pca8</th>\n",
       "      <th>pca9</th>\n",
       "      <th>pca10</th>\n",
       "    </tr>\n",
       "  </thead>\n",
       "  <tbody>\n",
       "    <tr>\n",
       "      <th>0</th>\n",
       "      <td>-1.803317</td>\n",
       "      <td>1.472982</td>\n",
       "      <td>0.328901</td>\n",
       "      <td>-0.392456</td>\n",
       "      <td>0.481960</td>\n",
       "      <td>1.061557</td>\n",
       "      <td>-0.052785</td>\n",
       "      <td>0.218792</td>\n",
       "      <td>0.147532</td>\n",
       "      <td>0.520498</td>\n",
       "    </tr>\n",
       "    <tr>\n",
       "      <th>1</th>\n",
       "      <td>-3.790674</td>\n",
       "      <td>0.570282</td>\n",
       "      <td>-1.107086</td>\n",
       "      <td>-0.291089</td>\n",
       "      <td>-0.305687</td>\n",
       "      <td>0.124798</td>\n",
       "      <td>-0.131618</td>\n",
       "      <td>0.152488</td>\n",
       "      <td>0.328542</td>\n",
       "      <td>0.537204</td>\n",
       "    </tr>\n",
       "    <tr>\n",
       "      <th>2</th>\n",
       "      <td>1.957868</td>\n",
       "      <td>-0.502470</td>\n",
       "      <td>0.722301</td>\n",
       "      <td>-0.888560</td>\n",
       "      <td>0.516152</td>\n",
       "      <td>1.119676</td>\n",
       "      <td>-0.229050</td>\n",
       "      <td>0.400673</td>\n",
       "      <td>0.389145</td>\n",
       "      <td>0.609471</td>\n",
       "    </tr>\n",
       "    <tr>\n",
       "      <th>3</th>\n",
       "      <td>3.606516</td>\n",
       "      <td>0.980708</td>\n",
       "      <td>0.884656</td>\n",
       "      <td>-0.868634</td>\n",
       "      <td>1.287452</td>\n",
       "      <td>-0.072607</td>\n",
       "      <td>-0.116731</td>\n",
       "      <td>0.222461</td>\n",
       "      <td>0.228227</td>\n",
       "      <td>0.626527</td>\n",
       "    </tr>\n",
       "    <tr>\n",
       "      <th>4</th>\n",
       "      <td>-1.803317</td>\n",
       "      <td>1.472982</td>\n",
       "      <td>0.328901</td>\n",
       "      <td>-0.392456</td>\n",
       "      <td>0.481960</td>\n",
       "      <td>1.061557</td>\n",
       "      <td>-0.052785</td>\n",
       "      <td>0.218792</td>\n",
       "      <td>0.147532</td>\n",
       "      <td>0.520498</td>\n",
       "    </tr>\n",
       "  </tbody>\n",
       "</table>\n",
       "</div>"
      ],
      "text/plain": [
       "        pc1       pc2       pc3       pc4       pc5      pca6      pca7  \\\n",
       "0 -1.803317  1.472982  0.328901 -0.392456  0.481960  1.061557 -0.052785   \n",
       "1 -3.790674  0.570282 -1.107086 -0.291089 -0.305687  0.124798 -0.131618   \n",
       "2  1.957868 -0.502470  0.722301 -0.888560  0.516152  1.119676 -0.229050   \n",
       "3  3.606516  0.980708  0.884656 -0.868634  1.287452 -0.072607 -0.116731   \n",
       "4 -1.803317  1.472982  0.328901 -0.392456  0.481960  1.061557 -0.052785   \n",
       "\n",
       "       pca8      pca9     pca10  \n",
       "0  0.218792  0.147532  0.520498  \n",
       "1  0.152488  0.328542  0.537204  \n",
       "2  0.400673  0.389145  0.609471  \n",
       "3  0.222461  0.228227  0.626527  \n",
       "4  0.218792  0.147532  0.520498  "
      ]
     },
     "execution_count": 5,
     "metadata": {},
     "output_type": "execute_result"
    }
   ],
   "source": [
    "# Import PCA from sklearn\n",
    "from sklearn.decomposition import PCA\n",
    "# Consider number of components as 10\n",
    "pca2 = PCA(n_components=10)\n",
    "pca3 = PCA(n_components=10)\n",
    "# Fitting the PCA on training data set for V2 and V3\n",
    "pct2 = pca2.fit_transform(encoded_X2_final)\n",
    "pct3 = pca3.fit_transform(encoded_X3_final)\n",
    "#Convert into Dataframes\n",
    "principal_df2 = pd.DataFrame(pct2,columns=['pc1','pc2','pc3','pc4','pc5','pca6','pca7','pca8','pca9','pca10'])\n",
    "principal_df3 = pd.DataFrame(pct3,columns=['pc1','pc2','pc3','pc4','pc5','pca6','pca7','pca8','pca9','pca10'])\n",
    "\n",
    "principal_df2.head()"
   ]
  },
  {
   "cell_type": "code",
   "execution_count": 6,
   "metadata": {
    "colab": {
     "base_uri": "https://localhost:8080/",
     "height": 52
    },
    "colab_type": "code",
    "id": "DyXclsgLuXv_",
    "outputId": "2120f0f7-df95-4b70-f70b-bc76a732d862"
   },
   "outputs": [
    {
     "data": {
      "text/plain": [
       "array([0.5563963 , 0.08236197, 0.07740303, 0.04837003, 0.04354927,\n",
       "       0.0408154 , 0.03119361, 0.02993844, 0.02842884, 0.0216099 ])"
      ]
     },
     "execution_count": 6,
     "metadata": {},
     "output_type": "execute_result"
    }
   ],
   "source": [
    "# How much Variance is captured?\n",
    "pca2.explained_variance_ratio_"
   ]
  },
  {
   "cell_type": "code",
   "execution_count": 7,
   "metadata": {
    "colab": {
     "base_uri": "https://localhost:8080/",
     "height": 52
    },
    "colab_type": "code",
    "id": "9UVRxE4KhUNN",
    "outputId": "dcb312ab-3df6-4969-aa53-a2c569f08cce"
   },
   "outputs": [
    {
     "data": {
      "text/plain": [
       "array([0.63624289, 0.0782052 , 0.04628852, 0.04480361, 0.04335333,\n",
       "       0.04228903, 0.03152818, 0.02635466, 0.02511881, 0.0107289 ])"
      ]
     },
     "execution_count": 7,
     "metadata": {},
     "output_type": "execute_result"
    }
   ],
   "source": [
    "# How much Variance is captured?\n",
    "pca3.explained_variance_ratio_"
   ]
  },
  {
   "cell_type": "code",
   "execution_count": 8,
   "metadata": {
    "colab": {},
    "colab_type": "code",
    "collapsed": true,
    "id": "-EYQEZ5HJsg5"
   },
   "outputs": [],
   "source": [
    "# Importing Decision Tree Model Classifer\n",
    "from sklearn.tree import DecisionTreeClassifier\n",
    "# Splitting data in to training and testing dataset\n",
    "from sklearn.model_selection import train_test_split"
   ]
  },
  {
   "cell_type": "code",
   "execution_count": 9,
   "metadata": {
    "colab": {},
    "colab_type": "code",
    "collapsed": true,
    "id": "HbDLdcBGJsjz"
   },
   "outputs": [],
   "source": [
    "#For V2 splitting training and testing data into 70% and 30% ratio\n",
    "X_trainset2, X_testset2, y_trainset2, y_testset2 = train_test_split(principal_df2, y2, test_size=0.3, random_state=3)"
   ]
  },
  {
   "cell_type": "code",
   "execution_count": 10,
   "metadata": {
    "colab": {},
    "colab_type": "code",
    "collapsed": true,
    "id": "RjRfTLDsJsm7"
   },
   "outputs": [],
   "source": [
    "#For V3 splitting training and testing data into 70% and 30% ratio\n",
    "X_trainset3, X_testset3, y_trainset3, y_testset3 = train_test_split(principal_df3, y3, test_size=0.3, random_state=3)"
   ]
  },
  {
   "cell_type": "code",
   "execution_count": 11,
   "metadata": {
    "colab": {},
    "colab_type": "code",
    "collapsed": true,
    "id": "daNBe6DDJsp5"
   },
   "outputs": [],
   "source": [
    "# Applying entropy for purifier and maximum depth as 4\n",
    "DTree2 = DecisionTreeClassifier(criterion=\"entropy\", max_depth = 4)\n",
    "DTree3= DecisionTreeClassifier(criterion=\"entropy\", max_depth = 4)"
   ]
  },
  {
   "cell_type": "code",
   "execution_count": 12,
   "metadata": {
    "colab": {
     "base_uri": "https://localhost:8080/",
     "height": 121
    },
    "colab_type": "code",
    "id": "K1F29iegJstE",
    "outputId": "639806ef-1dcc-4bd0-99f7-fdc9d53f7bb6"
   },
   "outputs": [
    {
     "data": {
      "text/plain": [
       "DecisionTreeClassifier(criterion='entropy', max_depth=4)"
      ]
     },
     "execution_count": 12,
     "metadata": {},
     "output_type": "execute_result"
    }
   ],
   "source": [
    "# Fitting Decision Tree on the training data\n",
    "DTree2.fit(X_trainset2,y_trainset2)\n",
    "DTree3.fit(X_trainset3,y_trainset3)"
   ]
  },
  {
   "cell_type": "code",
   "execution_count": 13,
   "metadata": {
    "colab": {},
    "colab_type": "code",
    "collapsed": true,
    "id": "id9Eru_NN4ao"
   },
   "outputs": [],
   "source": [
    "# Applying outcome of model on training dataset and predict the value after applying on test data set\n",
    "pred_Tree2 = DTree2.predict(X_testset2)\n",
    "pred_Tree3 = DTree3.predict(X_testset3)"
   ]
  },
  {
   "cell_type": "code",
   "execution_count": 14,
   "metadata": {
    "colab": {},
    "colab_type": "code",
    "collapsed": true,
    "id": "5y6A8-USN5-P"
   },
   "outputs": [],
   "source": [
    "# Import Metrices from Scikit Learn to caculate accuracy\n",
    "from sklearn import metrics"
   ]
  },
  {
   "cell_type": "code",
   "execution_count": 15,
   "metadata": {
    "colab": {
     "base_uri": "https://localhost:8080/",
     "height": 35
    },
    "colab_type": "code",
    "id": "K5FqkP9MN6HC",
    "outputId": "3d092da1-442b-46f5-9816-e0a0fb009aed"
   },
   "outputs": [
    {
     "name": "stdout",
     "output_type": "stream",
     "text": [
      "DecisionTrees's Accuracy for V2:  0.9998453050069612\n"
     ]
    }
   ],
   "source": [
    "# Accuracy - How close the prediction score is to actual score for V2\n",
    "print(\"DecisionTrees's Accuracy for V2: \", metrics.accuracy_score(y_testset2, pred_Tree2))"
   ]
  },
  {
   "cell_type": "code",
   "execution_count": 16,
   "metadata": {
    "colab": {
     "base_uri": "https://localhost:8080/",
     "height": 35
    },
    "colab_type": "code",
    "id": "DcEUDvlZObRX",
    "outputId": "b4d971d1-04fc-40b6-d858-c49a5c95f3e1"
   },
   "outputs": [
    {
     "name": "stdout",
     "output_type": "stream",
     "text": [
      "DecisionTrees's Accuracy for V3  0.9868509255917084\n"
     ]
    }
   ],
   "source": [
    "# Accuracy - How close the prediction score is to actual score for V3\n",
    "print(\"DecisionTrees's Accuracy for V3 \", metrics.accuracy_score(y_testset3, pred_Tree3))"
   ]
  }
 ],
 "metadata": {
  "colab": {
   "collapsed_sections": [],
   "name": "Welcome To Colaboratory",
   "provenance": [],
   "toc_visible": true
  },
  "kernelspec": {
   "display_name": "Python 3",
   "language": "python",
   "name": "python3"
  },
  "language_info": {
   "codemirror_mode": {
    "name": "ipython",
    "version": 3
   },
   "file_extension": ".py",
   "mimetype": "text/x-python",
   "name": "python",
   "nbconvert_exporter": "python",
   "pygments_lexer": "ipython3",
   "version": "3.6.1"
  }
 },
 "nbformat": 4,
 "nbformat_minor": 1
}
